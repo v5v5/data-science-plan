{
  "nbformat": 4,
  "nbformat_minor": 0,
  "metadata": {
    "colab": {
      "name": "SB DS 13/04/2021",
      "provenance": [],
      "collapsed_sections": [
        "en-QvFUVpCT5"
      ],
      "include_colab_link": true
    },
    "kernelspec": {
      "name": "python3",
      "display_name": "Python 3"
    },
    "language_info": {
      "name": "python"
    }
  },
  "cells": [
    {
      "cell_type": "markdown",
      "metadata": {
        "id": "view-in-github",
        "colab_type": "text"
      },
      "source": [
        "<a href=\"https://colab.research.google.com/github/v5v5/data-science-plan/blob/main/%D0%9F%D1%80%D0%BE%D1%81%D1%82%D0%BE%20%D0%BE%20%D1%81%D0%BB%D0%BE%D0%B6%D0%BD%D0%BE%D0%B9%20%D0%BC%D0%B0%D1%82%D0%B5%D0%BC%D0%B0%D1%82%D0%B8%D0%BA%D0%B5%20%D0%B2%20Data%20Science%2013_04_2021.ipynb\" target=\"_parent\"><img src=\"https://colab.research.google.com/assets/colab-badge.svg\" alt=\"Open In Colab\"/></a>"
      ]
    },
    {
      "cell_type": "markdown",
      "metadata": {
        "id": "Lylf8m8jZ4A7"
      },
      "source": [
        "# День 2\n",
        "\n",
        "Данные \n",
        "\n",
        "https://drive.google.com/file/d/1Mccq5uUsWbsDlSbmEsMer1U_IkxZXAyr/view?usp=sharing\n",
        "\n",
        "Или\n",
        "\n",
        "https://disk.yandex.com/d/-834NzVzgyKAaw\n",
        "\n",
        "\n",
        "\n",
        "Источник\n",
        "https://www.cryptodatadownload.com/data/bitfinex/"
      ]
    },
    {
      "cell_type": "code",
      "metadata": {
        "id": "6Lqot1MKZ5sg"
      },
      "source": [
        "import zipfile\n",
        "with zipfile.ZipFile(\"/content/BitFinexData.zip\", \"r\") as zipf:\n",
        "  zipf.extractall(\"/content/bitfinex/\")"
      ],
      "execution_count": null,
      "outputs": []
    },
    {
      "cell_type": "code",
      "metadata": {
        "colab": {
          "base_uri": "https://localhost:8080/",
          "height": 203
        },
        "id": "EMKdRiSVbKD3",
        "outputId": "019d0521-4e1c-492e-c62e-850013ba2bc5"
      },
      "source": [
        "import pandas as pd\n",
        "bitcoin = pd.read_csv(\"/content/bitfinex/Bitfinex_BTCUSD_d.csv\", skiprows=1)[1:-750]\n",
        "bitcoin[\"date\"] = pd.to_datetime(bitcoin[\"date\"])\n",
        "bitcoin = bitcoin[::-1]\n",
        "bitcoin = bitcoin.reset_index(drop=True)\n",
        "bitcoin.head()"
      ],
      "execution_count": null,
      "outputs": [
        {
          "output_type": "execute_result",
          "data": {
            "text/html": [
              "<div>\n",
              "<style scoped>\n",
              "    .dataframe tbody tr th:only-of-type {\n",
              "        vertical-align: middle;\n",
              "    }\n",
              "\n",
              "    .dataframe tbody tr th {\n",
              "        vertical-align: top;\n",
              "    }\n",
              "\n",
              "    .dataframe thead th {\n",
              "        text-align: right;\n",
              "    }\n",
              "</style>\n",
              "<table border=\"1\" class=\"dataframe\">\n",
              "  <thead>\n",
              "    <tr style=\"text-align: right;\">\n",
              "      <th></th>\n",
              "      <th>unix</th>\n",
              "      <th>date</th>\n",
              "      <th>symbol</th>\n",
              "      <th>open</th>\n",
              "      <th>high</th>\n",
              "      <th>low</th>\n",
              "      <th>close</th>\n",
              "      <th>Volume USD</th>\n",
              "      <th>Volume BTC</th>\n",
              "    </tr>\n",
              "  </thead>\n",
              "  <tbody>\n",
              "    <tr>\n",
              "      <th>0</th>\n",
              "      <td>1488240000</td>\n",
              "      <td>2017-02-28</td>\n",
              "      <td>BTC/USD</td>\n",
              "      <td>1195.5</td>\n",
              "      <td>1216.0</td>\n",
              "      <td>1176.6</td>\n",
              "      <td>1189.1</td>\n",
              "      <td>16251499.88</td>\n",
              "      <td>13608.74</td>\n",
              "    </tr>\n",
              "    <tr>\n",
              "      <th>1</th>\n",
              "      <td>1488326400</td>\n",
              "      <td>2017-03-01</td>\n",
              "      <td>BTC/USD</td>\n",
              "      <td>1189.1</td>\n",
              "      <td>1236.4</td>\n",
              "      <td>1186.0</td>\n",
              "      <td>1233.2</td>\n",
              "      <td>20165589.45</td>\n",
              "      <td>16589.62</td>\n",
              "    </tr>\n",
              "    <tr>\n",
              "      <th>2</th>\n",
              "      <td>1488412800</td>\n",
              "      <td>2017-03-02</td>\n",
              "      <td>BTC/USD</td>\n",
              "      <td>1233.2</td>\n",
              "      <td>1285.9</td>\n",
              "      <td>1212.0</td>\n",
              "      <td>1258.0</td>\n",
              "      <td>26536494.73</td>\n",
              "      <td>21274.82</td>\n",
              "    </tr>\n",
              "    <tr>\n",
              "      <th>3</th>\n",
              "      <td>1488499200</td>\n",
              "      <td>2017-03-03</td>\n",
              "      <td>BTC/USD</td>\n",
              "      <td>1258.0</td>\n",
              "      <td>1294.9</td>\n",
              "      <td>1256.2</td>\n",
              "      <td>1289.2</td>\n",
              "      <td>20748814.46</td>\n",
              "      <td>16223.73</td>\n",
              "    </tr>\n",
              "    <tr>\n",
              "      <th>4</th>\n",
              "      <td>1488585600</td>\n",
              "      <td>2017-03-04</td>\n",
              "      <td>BTC/USD</td>\n",
              "      <td>1289.2</td>\n",
              "      <td>1291.9</td>\n",
              "      <td>1240.0</td>\n",
              "      <td>1267.8</td>\n",
              "      <td>14131545.81</td>\n",
              "      <td>11156.61</td>\n",
              "    </tr>\n",
              "  </tbody>\n",
              "</table>\n",
              "</div>"
            ],
            "text/plain": [
              "         unix       date   symbol  ...   close   Volume USD  Volume BTC\n",
              "0  1488240000 2017-02-28  BTC/USD  ...  1189.1  16251499.88    13608.74\n",
              "1  1488326400 2017-03-01  BTC/USD  ...  1233.2  20165589.45    16589.62\n",
              "2  1488412800 2017-03-02  BTC/USD  ...  1258.0  26536494.73    21274.82\n",
              "3  1488499200 2017-03-03  BTC/USD  ...  1289.2  20748814.46    16223.73\n",
              "4  1488585600 2017-03-04  BTC/USD  ...  1267.8  14131545.81    11156.61\n",
              "\n",
              "[5 rows x 9 columns]"
            ]
          },
          "metadata": {
            "tags": []
          },
          "execution_count": 2
        }
      ]
    },
    {
      "cell_type": "code",
      "metadata": {
        "colab": {
          "base_uri": "https://localhost:8080/",
          "height": 141
        },
        "id": "sbZ1pSEBbt9R",
        "outputId": "cc513920-ad19-4850-ec53-4e09d4955049"
      },
      "source": [
        "bitcoin.head(3)"
      ],
      "execution_count": null,
      "outputs": [
        {
          "output_type": "execute_result",
          "data": {
            "text/html": [
              "<div>\n",
              "<style scoped>\n",
              "    .dataframe tbody tr th:only-of-type {\n",
              "        vertical-align: middle;\n",
              "    }\n",
              "\n",
              "    .dataframe tbody tr th {\n",
              "        vertical-align: top;\n",
              "    }\n",
              "\n",
              "    .dataframe thead th {\n",
              "        text-align: right;\n",
              "    }\n",
              "</style>\n",
              "<table border=\"1\" class=\"dataframe\">\n",
              "  <thead>\n",
              "    <tr style=\"text-align: right;\">\n",
              "      <th></th>\n",
              "      <th>unix</th>\n",
              "      <th>date</th>\n",
              "      <th>symbol</th>\n",
              "      <th>open</th>\n",
              "      <th>high</th>\n",
              "      <th>low</th>\n",
              "      <th>close</th>\n",
              "      <th>Volume USD</th>\n",
              "      <th>Volume BTC</th>\n",
              "    </tr>\n",
              "  </thead>\n",
              "  <tbody>\n",
              "    <tr>\n",
              "      <th>0</th>\n",
              "      <td>1488240000</td>\n",
              "      <td>2017-02-28</td>\n",
              "      <td>BTC/USD</td>\n",
              "      <td>1195.5</td>\n",
              "      <td>1216.0</td>\n",
              "      <td>1176.6</td>\n",
              "      <td>1189.1</td>\n",
              "      <td>16251499.88</td>\n",
              "      <td>13608.74</td>\n",
              "    </tr>\n",
              "    <tr>\n",
              "      <th>1</th>\n",
              "      <td>1488326400</td>\n",
              "      <td>2017-03-01</td>\n",
              "      <td>BTC/USD</td>\n",
              "      <td>1189.1</td>\n",
              "      <td>1236.4</td>\n",
              "      <td>1186.0</td>\n",
              "      <td>1233.2</td>\n",
              "      <td>20165589.45</td>\n",
              "      <td>16589.62</td>\n",
              "    </tr>\n",
              "    <tr>\n",
              "      <th>2</th>\n",
              "      <td>1488412800</td>\n",
              "      <td>2017-03-02</td>\n",
              "      <td>BTC/USD</td>\n",
              "      <td>1233.2</td>\n",
              "      <td>1285.9</td>\n",
              "      <td>1212.0</td>\n",
              "      <td>1258.0</td>\n",
              "      <td>26536494.73</td>\n",
              "      <td>21274.82</td>\n",
              "    </tr>\n",
              "  </tbody>\n",
              "</table>\n",
              "</div>"
            ],
            "text/plain": [
              "         unix       date   symbol  ...   close   Volume USD  Volume BTC\n",
              "0  1488240000 2017-02-28  BTC/USD  ...  1189.1  16251499.88    13608.74\n",
              "1  1488326400 2017-03-01  BTC/USD  ...  1233.2  20165589.45    16589.62\n",
              "2  1488412800 2017-03-02  BTC/USD  ...  1258.0  26536494.73    21274.82\n",
              "\n",
              "[3 rows x 9 columns]"
            ]
          },
          "metadata": {
            "tags": []
          },
          "execution_count": 3
        }
      ]
    },
    {
      "cell_type": "code",
      "metadata": {
        "id": "cylyi1M4ec5M"
      },
      "source": [
        ""
      ],
      "execution_count": null,
      "outputs": []
    },
    {
      "cell_type": "code",
      "metadata": {
        "id": "ACWFbg8IkmZX"
      },
      "source": [
        ""
      ],
      "execution_count": null,
      "outputs": []
    },
    {
      "cell_type": "code",
      "metadata": {
        "colab": {
          "base_uri": "https://localhost:8080/",
          "height": 283
        },
        "id": "ofbhZTK1buuU",
        "outputId": "dabc1774-e290-425b-e9cc-edaf12e14cb1"
      },
      "source": [
        "bitcoin[\"high\"].plot()"
      ],
      "execution_count": null,
      "outputs": [
        {
          "output_type": "execute_result",
          "data": {
            "text/plain": [
              "<matplotlib.axes._subplots.AxesSubplot at 0x7f3bcc00cbd0>"
            ]
          },
          "metadata": {
            "tags": []
          },
          "execution_count": 4
        },
        {
          "output_type": "display_data",
          "data": {
            "image/png": "[encoded data removed]",
            "text/plain": [
              "<Figure size 432x288 with 1 Axes>"
            ]
          },
          "metadata": {
            "tags": [],
            "needs_background": "light"
          }
        }
      ]
    },
    {
      "cell_type": "code",
      "metadata": {
        "colab": {
          "base_uri": "https://localhost:8080/"
        },
        "id": "gFo8WrtvdC0O",
        "outputId": "68052dda-8cb6-4769-99d7-0f64308bc441"
      },
      "source": [
        "bitcoin.shape"
      ],
      "execution_count": null,
      "outputs": [
        {
          "output_type": "execute_result",
          "data": {
            "text/plain": [
              "(1505, 9)"
            ]
          },
          "metadata": {
            "tags": []
          },
          "execution_count": 5
        }
      ]
    },
    {
      "cell_type": "code",
      "metadata": {
        "colab": {
          "base_uri": "https://localhost:8080/",
          "height": 293
        },
        "id": "jsT0vVd1cmUD",
        "outputId": "45ee837e-cbab-4cd1-ee87-0cb83d604de4"
      },
      "source": [
        "bitcoin[\"Volume USD\"].plot()\n"
      ],
      "execution_count": null,
      "outputs": [
        {
          "output_type": "execute_result",
          "data": {
            "text/plain": [
              "<matplotlib.axes._subplots.AxesSubplot at 0x7f3bc5e0dad0>"
            ]
          },
          "metadata": {
            "tags": []
          },
          "execution_count": 6
        },
        {
          "output_type": "display_data",
          "data": {
            "image/png": "[encoded data removed]",
            "text/plain": [
              "<Figure size 432x288 with 1 Axes>"
            ]
          },
          "metadata": {
            "tags": [],
            "needs_background": "light"
          }
        }
      ]
    },
    {
      "cell_type": "code",
      "metadata": {
        "colab": {
          "base_uri": "https://localhost:8080/",
          "height": 283
        },
        "id": "Ki5JLyKWdaYX",
        "outputId": "87dfb1e1-bc66-46a2-f512-9abb213fd304"
      },
      "source": [
        "(bitcoin[\"open\"] - bitcoin[\"close\"]).plot()"
      ],
      "execution_count": null,
      "outputs": [
        {
          "output_type": "execute_result",
          "data": {
            "text/plain": [
              "<matplotlib.axes._subplots.AxesSubplot at 0x7f3bc56c4350>"
            ]
          },
          "metadata": {
            "tags": []
          },
          "execution_count": 7
        },
        {
          "output_type": "display_data",
          "data": {
            "image/png": "[encoded data removed]",
            "text/plain": [
              "<Figure size 432x288 with 1 Axes>"
            ]
          },
          "metadata": {
            "tags": [],
            "needs_background": "light"
          }
        }
      ]
    },
    {
      "cell_type": "code",
      "metadata": {
        "colab": {
          "base_uri": "https://localhost:8080/",
          "height": 283
        },
        "id": "XRX9tbF3dpaq",
        "outputId": "bbeab16c-b3f5-4dd3-f0a9-8ce59cdfafa9"
      },
      "source": [
        "(bitcoin[\"high\"] - bitcoin[\"low\"]).plot()"
      ],
      "execution_count": null,
      "outputs": [
        {
          "output_type": "execute_result",
          "data": {
            "text/plain": [
              "<matplotlib.axes._subplots.AxesSubplot at 0x7f3bc563f690>"
            ]
          },
          "metadata": {
            "tags": []
          },
          "execution_count": 8
        },
        {
          "output_type": "display_data",
          "data": {
            "image/png": "[encoded data removed]",
            "text/plain": [
              "<Figure size 432x288 with 1 Axes>"
            ]
          },
          "metadata": {
            "tags": [],
            "needs_background": "light"
          }
        }
      ]
    },
    {
      "cell_type": "code",
      "metadata": {
        "colab": {
          "base_uri": "https://localhost:8080/",
          "height": 283
        },
        "id": "xdYp8S5udynh",
        "outputId": "99b05e83-9062-4431-c873-94772f3ddf7a"
      },
      "source": [
        "(bitcoin[\"Volume USD\"] / bitcoin[\"Volume BTC\"]).plot()"
      ],
      "execution_count": null,
      "outputs": [
        {
          "output_type": "execute_result",
          "data": {
            "text/plain": [
              "<matplotlib.axes._subplots.AxesSubplot at 0x7f3bc56cfc10>"
            ]
          },
          "metadata": {
            "tags": []
          },
          "execution_count": 9
        },
        {
          "output_type": "display_data",
          "data": {
            "image/png": "[encoded data removed]",
            "text/plain": [
              "<Figure size 432x288 with 1 Axes>"
            ]
          },
          "metadata": {
            "tags": [],
            "needs_background": "light"
          }
        }
      ]
    },
    {
      "cell_type": "code",
      "metadata": {
        "id": "k7Wy1viBeAj9"
      },
      "source": [
        "bitcoin[\"weekday\"] = bitcoin[\"date\"].dt.weekday\n",
        "bitcoin[\"year\"] = bitcoin[\"date\"].dt.year\n",
        "bitcoin[\"month\"] = bitcoin[\"date\"].dt.month"
      ],
      "execution_count": null,
      "outputs": []
    },
    {
      "cell_type": "code",
      "metadata": {
        "colab": {
          "base_uri": "https://localhost:8080/",
          "height": 297
        },
        "id": "Izf1tleXfXtr",
        "outputId": "6dc792ae-605f-4080-cbf8-5532d71186f9"
      },
      "source": [
        "bitcoin.groupby(\"weekday\")[\"close\"].mean().plot()"
      ],
      "execution_count": null,
      "outputs": [
        {
          "output_type": "execute_result",
          "data": {
            "text/plain": [
              "<matplotlib.axes._subplots.AxesSubplot at 0x7f3bc5526a90>"
            ]
          },
          "metadata": {
            "tags": []
          },
          "execution_count": 11
        },
        {
          "output_type": "display_data",
          "data": {
            "image/png": "[encoded data removed]",
            "text/plain": [
              "<Figure size 432x288 with 1 Axes>"
            ]
          },
          "metadata": {
            "tags": [],
            "needs_background": "light"
          }
        }
      ]
    },
    {
      "cell_type": "code",
      "metadata": {
        "colab": {
          "base_uri": "https://localhost:8080/",
          "height": 307
        },
        "id": "4yeLd6nZeZcA",
        "outputId": "2829e064-e12b-40c7-91b8-8579c996ec0f"
      },
      "source": [
        "bitcoin.groupby(\"weekday\")[\"Volume USD\"].mean().plot()"
      ],
      "execution_count": null,
      "outputs": [
        {
          "output_type": "execute_result",
          "data": {
            "text/plain": [
              "<matplotlib.axes._subplots.AxesSubplot at 0x7f3bc551b790>"
            ]
          },
          "metadata": {
            "tags": []
          },
          "execution_count": 12
        },
        {
          "output_type": "display_data",
          "data": {
            "image/png": "[encoded data removed]",
            "text/plain": [
              "<Figure size 432x288 with 1 Axes>"
            ]
          },
          "metadata": {
            "tags": [],
            "needs_background": "light"
          }
        }
      ]
    },
    {
      "cell_type": "code",
      "metadata": {
        "colab": {
          "base_uri": "https://localhost:8080/",
          "height": 210
        },
        "id": "sWiQLIpdew2v",
        "outputId": "a89e2cbb-caf0-48b5-effc-877fbb8272ca"
      },
      "source": [
        "bitcoin.head(3)"
      ],
      "execution_count": null,
      "outputs": [
        {
          "output_type": "execute_result",
          "data": {
            "text/html": [
              "<div>\n",
              "<style scoped>\n",
              "    .dataframe tbody tr th:only-of-type {\n",
              "        vertical-align: middle;\n",
              "    }\n",
              "\n",
              "    .dataframe tbody tr th {\n",
              "        vertical-align: top;\n",
              "    }\n",
              "\n",
              "    .dataframe thead th {\n",
              "        text-align: right;\n",
              "    }\n",
              "</style>\n",
              "<table border=\"1\" class=\"dataframe\">\n",
              "  <thead>\n",
              "    <tr style=\"text-align: right;\">\n",
              "      <th></th>\n",
              "      <th>unix</th>\n",
              "      <th>date</th>\n",
              "      <th>symbol</th>\n",
              "      <th>open</th>\n",
              "      <th>high</th>\n",
              "      <th>low</th>\n",
              "      <th>close</th>\n",
              "      <th>Volume USD</th>\n",
              "      <th>Volume BTC</th>\n",
              "      <th>weekday</th>\n",
              "      <th>year</th>\n",
              "      <th>month</th>\n",
              "    </tr>\n",
              "  </thead>\n",
              "  <tbody>\n",
              "    <tr>\n",
              "      <th>0</th>\n",
              "      <td>1488240000</td>\n",
              "      <td>2017-02-28</td>\n",
              "      <td>BTC/USD</td>\n",
              "      <td>1195.5</td>\n",
              "      <td>1216.0</td>\n",
              "      <td>1176.6</td>\n",
              "      <td>1189.1</td>\n",
              "      <td>16251499.88</td>\n",
              "      <td>13608.74</td>\n",
              "      <td>1</td>\n",
              "      <td>2017</td>\n",
              "      <td>2</td>\n",
              "    </tr>\n",
              "    <tr>\n",
              "      <th>1</th>\n",
              "      <td>1488326400</td>\n",
              "      <td>2017-03-01</td>\n",
              "      <td>BTC/USD</td>\n",
              "      <td>1189.1</td>\n",
              "      <td>1236.4</td>\n",
              "      <td>1186.0</td>\n",
              "      <td>1233.2</td>\n",
              "      <td>20165589.45</td>\n",
              "      <td>16589.62</td>\n",
              "      <td>2</td>\n",
              "      <td>2017</td>\n",
              "      <td>3</td>\n",
              "    </tr>\n",
              "    <tr>\n",
              "      <th>2</th>\n",
              "      <td>1488412800</td>\n",
              "      <td>2017-03-02</td>\n",
              "      <td>BTC/USD</td>\n",
              "      <td>1233.2</td>\n",
              "      <td>1285.9</td>\n",
              "      <td>1212.0</td>\n",
              "      <td>1258.0</td>\n",
              "      <td>26536494.73</td>\n",
              "      <td>21274.82</td>\n",
              "      <td>3</td>\n",
              "      <td>2017</td>\n",
              "      <td>3</td>\n",
              "    </tr>\n",
              "  </tbody>\n",
              "</table>\n",
              "</div>"
            ],
            "text/plain": [
              "         unix       date   symbol    open  ...  Volume BTC  weekday  year  month\n",
              "0  1488240000 2017-02-28  BTC/USD  1195.5  ...    13608.74        1  2017      2\n",
              "1  1488326400 2017-03-01  BTC/USD  1189.1  ...    16589.62        2  2017      3\n",
              "2  1488412800 2017-03-02  BTC/USD  1233.2  ...    21274.82        3  2017      3\n",
              "\n",
              "[3 rows x 12 columns]"
            ]
          },
          "metadata": {
            "tags": []
          },
          "execution_count": 13
        }
      ]
    },
    {
      "cell_type": "code",
      "metadata": {
        "id": "zFiE-TnIfjkw"
      },
      "source": [
        "# open - close — не имеет смысла "
      ],
      "execution_count": null,
      "outputs": []
    },
    {
      "cell_type": "code",
      "metadata": {
        "id": "tcOe_DmCfn0N"
      },
      "source": [
        "# (open-close) / (high-low) — имеет смысл\n",
        "# volume USD - Volume BTC"
      ],
      "execution_count": null,
      "outputs": []
    },
    {
      "cell_type": "code",
      "metadata": {
        "id": "GkM-OEzTf8WK"
      },
      "source": [
        "bitcoin[\"open2high\"] = ((bitcoin[\"open\"] - bitcoin[\"close\"]) / (bitcoin[\"high\"] - bitcoin[\"low\"])).abs()"
      ],
      "execution_count": null,
      "outputs": []
    },
    {
      "cell_type": "code",
      "metadata": {
        "id": "vCBWmm_Ug01E"
      },
      "source": [
        "for day in range(1,15):\n",
        "  bitcoin[f\"close_d{day}\"] = bitcoin[\"close\"].shift(day)\n",
        "\n",
        "\n",
        "bitcoin[\"close_avg_2m\"] = bitcoin[\"close\"].shift(1).rolling(window=60).mean()\n",
        "bitcoin.fillna(method=\"bfill\", inplace=True)\n",
        "bitcoin.drop(columns=[\"unix\", \"date\", \"symbol\"], axis=1, inplace=True)"
      ],
      "execution_count": null,
      "outputs": []
    },
    {
      "cell_type": "code",
      "metadata": {
        "colab": {
          "base_uri": "https://localhost:8080/",
          "height": 548
        },
        "id": "giaPJ5oqhIae",
        "outputId": "0a8f623f-6a15-4d60-f444-5d2575b4533f"
      },
      "source": [
        "bitcoin.head(15)"
      ],
      "execution_count": null,
      "outputs": [
        {
          "output_type": "execute_result",
          "data": {
            "text/html": [
              "<div>\n",
              "<style scoped>\n",
              "    .dataframe tbody tr th:only-of-type {\n",
              "        vertical-align: middle;\n",
              "    }\n",
              "\n",
              "    .dataframe tbody tr th {\n",
              "        vertical-align: top;\n",
              "    }\n",
              "\n",
              "    .dataframe thead th {\n",
              "        text-align: right;\n",
              "    }\n",
              "</style>\n",
              "<table border=\"1\" class=\"dataframe\">\n",
              "  <thead>\n",
              "    <tr style=\"text-align: right;\">\n",
              "      <th></th>\n",
              "      <th>open</th>\n",
              "      <th>high</th>\n",
              "      <th>low</th>\n",
              "      <th>close</th>\n",
              "      <th>Volume USD</th>\n",
              "      <th>Volume BTC</th>\n",
              "      <th>weekday</th>\n",
              "      <th>year</th>\n",
              "      <th>month</th>\n",
              "      <th>open2high</th>\n",
              "      <th>close_d1</th>\n",
              "      <th>close_d2</th>\n",
              "      <th>close_d3</th>\n",
              "      <th>close_d4</th>\n",
              "      <th>close_d5</th>\n",
              "      <th>close_d6</th>\n",
              "      <th>close_d7</th>\n",
              "      <th>close_d8</th>\n",
              "      <th>close_d9</th>\n",
              "      <th>close_d10</th>\n",
              "      <th>close_d11</th>\n",
              "      <th>close_d12</th>\n",
              "      <th>close_d13</th>\n",
              "      <th>close_d14</th>\n",
              "      <th>close_avg_2m</th>\n",
              "    </tr>\n",
              "  </thead>\n",
              "  <tbody>\n",
              "    <tr>\n",
              "      <th>0</th>\n",
              "      <td>1195.5</td>\n",
              "      <td>1216.0</td>\n",
              "      <td>1176.6</td>\n",
              "      <td>1189.1</td>\n",
              "      <td>16251499.88</td>\n",
              "      <td>13608.74</td>\n",
              "      <td>1</td>\n",
              "      <td>2017</td>\n",
              "      <td>2</td>\n",
              "      <td>0.162437</td>\n",
              "      <td>1189.1</td>\n",
              "      <td>1189.1</td>\n",
              "      <td>1189.1</td>\n",
              "      <td>1189.1</td>\n",
              "      <td>1189.1</td>\n",
              "      <td>1189.1</td>\n",
              "      <td>1189.1</td>\n",
              "      <td>1189.1</td>\n",
              "      <td>1189.1</td>\n",
              "      <td>1189.1</td>\n",
              "      <td>1189.1</td>\n",
              "      <td>1189.1</td>\n",
              "      <td>1189.1</td>\n",
              "      <td>1189.1</td>\n",
              "      <td>1186.611667</td>\n",
              "    </tr>\n",
              "    <tr>\n",
              "      <th>1</th>\n",
              "      <td>1189.1</td>\n",
              "      <td>1236.4</td>\n",
              "      <td>1186.0</td>\n",
              "      <td>1233.2</td>\n",
              "      <td>20165589.45</td>\n",
              "      <td>16589.62</td>\n",
              "      <td>2</td>\n",
              "      <td>2017</td>\n",
              "      <td>3</td>\n",
              "      <td>0.875000</td>\n",
              "      <td>1189.1</td>\n",
              "      <td>1189.1</td>\n",
              "      <td>1189.1</td>\n",
              "      <td>1189.1</td>\n",
              "      <td>1189.1</td>\n",
              "      <td>1189.1</td>\n",
              "      <td>1189.1</td>\n",
              "      <td>1189.1</td>\n",
              "      <td>1189.1</td>\n",
              "      <td>1189.1</td>\n",
              "      <td>1189.1</td>\n",
              "      <td>1189.1</td>\n",
              "      <td>1189.1</td>\n",
              "      <td>1189.1</td>\n",
              "      <td>1186.611667</td>\n",
              "    </tr>\n",
              "    <tr>\n",
              "      <th>2</th>\n",
              "      <td>1233.2</td>\n",
              "      <td>1285.9</td>\n",
              "      <td>1212.0</td>\n",
              "      <td>1258.0</td>\n",
              "      <td>26536494.73</td>\n",
              "      <td>21274.82</td>\n",
              "      <td>3</td>\n",
              "      <td>2017</td>\n",
              "      <td>3</td>\n",
              "      <td>0.335589</td>\n",
              "      <td>1233.2</td>\n",
              "      <td>1189.1</td>\n",
              "      <td>1189.1</td>\n",
              "      <td>1189.1</td>\n",
              "      <td>1189.1</td>\n",
              "      <td>1189.1</td>\n",
              "      <td>1189.1</td>\n",
              "      <td>1189.1</td>\n",
              "      <td>1189.1</td>\n",
              "      <td>1189.1</td>\n",
              "      <td>1189.1</td>\n",
              "      <td>1189.1</td>\n",
              "      <td>1189.1</td>\n",
              "      <td>1189.1</td>\n",
              "      <td>1186.611667</td>\n",
              "    </tr>\n",
              "    <tr>\n",
              "      <th>3</th>\n",
              "      <td>1258.0</td>\n",
              "      <td>1294.9</td>\n",
              "      <td>1256.2</td>\n",
              "      <td>1289.2</td>\n",
              "      <td>20748814.46</td>\n",
              "      <td>16223.73</td>\n",
              "      <td>4</td>\n",
              "      <td>2017</td>\n",
              "      <td>3</td>\n",
              "      <td>0.806202</td>\n",
              "      <td>1258.0</td>\n",
              "      <td>1233.2</td>\n",
              "      <td>1189.1</td>\n",
              "      <td>1189.1</td>\n",
              "      <td>1189.1</td>\n",
              "      <td>1189.1</td>\n",
              "      <td>1189.1</td>\n",
              "      <td>1189.1</td>\n",
              "      <td>1189.1</td>\n",
              "      <td>1189.1</td>\n",
              "      <td>1189.1</td>\n",
              "      <td>1189.1</td>\n",
              "      <td>1189.1</td>\n",
              "      <td>1189.1</td>\n",
              "      <td>1186.611667</td>\n",
              "    </tr>\n",
              "    <tr>\n",
              "      <th>4</th>\n",
              "      <td>1289.2</td>\n",
              "      <td>1291.9</td>\n",
              "      <td>1240.0</td>\n",
              "      <td>1267.8</td>\n",
              "      <td>14131545.81</td>\n",
              "      <td>11156.61</td>\n",
              "      <td>5</td>\n",
              "      <td>2017</td>\n",
              "      <td>3</td>\n",
              "      <td>0.412331</td>\n",
              "      <td>1289.2</td>\n",
              "      <td>1258.0</td>\n",
              "      <td>1233.2</td>\n",
              "      <td>1189.1</td>\n",
              "      <td>1189.1</td>\n",
              "      <td>1189.1</td>\n",
              "      <td>1189.1</td>\n",
              "      <td>1189.1</td>\n",
              "      <td>1189.1</td>\n",
              "      <td>1189.1</td>\n",
              "      <td>1189.1</td>\n",
              "      <td>1189.1</td>\n",
              "      <td>1189.1</td>\n",
              "      <td>1189.1</td>\n",
              "      <td>1186.611667</td>\n",
              "    </tr>\n",
              "    <tr>\n",
              "      <th>5</th>\n",
              "      <td>1267.8</td>\n",
              "      <td>1279.9</td>\n",
              "      <td>1245.0</td>\n",
              "      <td>1278.4</td>\n",
              "      <td>8495853.37</td>\n",
              "      <td>6711.15</td>\n",
              "      <td>6</td>\n",
              "      <td>2017</td>\n",
              "      <td>3</td>\n",
              "      <td>0.303725</td>\n",
              "      <td>1267.8</td>\n",
              "      <td>1289.2</td>\n",
              "      <td>1258.0</td>\n",
              "      <td>1233.2</td>\n",
              "      <td>1189.1</td>\n",
              "      <td>1189.1</td>\n",
              "      <td>1189.1</td>\n",
              "      <td>1189.1</td>\n",
              "      <td>1189.1</td>\n",
              "      <td>1189.1</td>\n",
              "      <td>1189.1</td>\n",
              "      <td>1189.1</td>\n",
              "      <td>1189.1</td>\n",
              "      <td>1189.1</td>\n",
              "      <td>1186.611667</td>\n",
              "    </tr>\n",
              "    <tr>\n",
              "      <th>6</th>\n",
              "      <td>1278.4</td>\n",
              "      <td>1287.8</td>\n",
              "      <td>1268.0</td>\n",
              "      <td>1279.2</td>\n",
              "      <td>10069995.03</td>\n",
              "      <td>7875.30</td>\n",
              "      <td>0</td>\n",
              "      <td>2017</td>\n",
              "      <td>3</td>\n",
              "      <td>0.040404</td>\n",
              "      <td>1278.4</td>\n",
              "      <td>1267.8</td>\n",
              "      <td>1289.2</td>\n",
              "      <td>1258.0</td>\n",
              "      <td>1233.2</td>\n",
              "      <td>1189.1</td>\n",
              "      <td>1189.1</td>\n",
              "      <td>1189.1</td>\n",
              "      <td>1189.1</td>\n",
              "      <td>1189.1</td>\n",
              "      <td>1189.1</td>\n",
              "      <td>1189.1</td>\n",
              "      <td>1189.1</td>\n",
              "      <td>1189.1</td>\n",
              "      <td>1186.611667</td>\n",
              "    </tr>\n",
              "    <tr>\n",
              "      <th>7</th>\n",
              "      <td>1279.2</td>\n",
              "      <td>1282.0</td>\n",
              "      <td>1185.0</td>\n",
              "      <td>1232.4</td>\n",
              "      <td>35444302.78</td>\n",
              "      <td>28634.69</td>\n",
              "      <td>1</td>\n",
              "      <td>2017</td>\n",
              "      <td>3</td>\n",
              "      <td>0.482474</td>\n",
              "      <td>1279.2</td>\n",
              "      <td>1278.4</td>\n",
              "      <td>1267.8</td>\n",
              "      <td>1289.2</td>\n",
              "      <td>1258.0</td>\n",
              "      <td>1233.2</td>\n",
              "      <td>1189.1</td>\n",
              "      <td>1189.1</td>\n",
              "      <td>1189.1</td>\n",
              "      <td>1189.1</td>\n",
              "      <td>1189.1</td>\n",
              "      <td>1189.1</td>\n",
              "      <td>1189.1</td>\n",
              "      <td>1189.1</td>\n",
              "      <td>1186.611667</td>\n",
              "    </tr>\n",
              "    <tr>\n",
              "      <th>8</th>\n",
              "      <td>1232.4</td>\n",
              "      <td>1243.6</td>\n",
              "      <td>1142.2</td>\n",
              "      <td>1150.0</td>\n",
              "      <td>41164704.13</td>\n",
              "      <td>34649.53</td>\n",
              "      <td>2</td>\n",
              "      <td>2017</td>\n",
              "      <td>3</td>\n",
              "      <td>0.812623</td>\n",
              "      <td>1232.4</td>\n",
              "      <td>1279.2</td>\n",
              "      <td>1278.4</td>\n",
              "      <td>1267.8</td>\n",
              "      <td>1289.2</td>\n",
              "      <td>1258.0</td>\n",
              "      <td>1233.2</td>\n",
              "      <td>1189.1</td>\n",
              "      <td>1189.1</td>\n",
              "      <td>1189.1</td>\n",
              "      <td>1189.1</td>\n",
              "      <td>1189.1</td>\n",
              "      <td>1189.1</td>\n",
              "      <td>1189.1</td>\n",
              "      <td>1186.611667</td>\n",
              "    </tr>\n",
              "    <tr>\n",
              "      <th>9</th>\n",
              "      <td>1150.0</td>\n",
              "      <td>1207.6</td>\n",
              "      <td>1136.0</td>\n",
              "      <td>1190.4</td>\n",
              "      <td>22985798.25</td>\n",
              "      <td>19542.81</td>\n",
              "      <td>3</td>\n",
              "      <td>2017</td>\n",
              "      <td>3</td>\n",
              "      <td>0.564246</td>\n",
              "      <td>1150.0</td>\n",
              "      <td>1232.4</td>\n",
              "      <td>1279.2</td>\n",
              "      <td>1278.4</td>\n",
              "      <td>1267.8</td>\n",
              "      <td>1289.2</td>\n",
              "      <td>1258.0</td>\n",
              "      <td>1233.2</td>\n",
              "      <td>1189.1</td>\n",
              "      <td>1189.1</td>\n",
              "      <td>1189.1</td>\n",
              "      <td>1189.1</td>\n",
              "      <td>1189.1</td>\n",
              "      <td>1189.1</td>\n",
              "      <td>1186.611667</td>\n",
              "    </tr>\n",
              "    <tr>\n",
              "      <th>10</th>\n",
              "      <td>1190.4</td>\n",
              "      <td>1338.7</td>\n",
              "      <td>958.5</td>\n",
              "      <td>1115.4</td>\n",
              "      <td>66675093.83</td>\n",
              "      <td>56612.42</td>\n",
              "      <td>4</td>\n",
              "      <td>2017</td>\n",
              "      <td>3</td>\n",
              "      <td>0.197265</td>\n",
              "      <td>1190.4</td>\n",
              "      <td>1150.0</td>\n",
              "      <td>1232.4</td>\n",
              "      <td>1279.2</td>\n",
              "      <td>1278.4</td>\n",
              "      <td>1267.8</td>\n",
              "      <td>1289.2</td>\n",
              "      <td>1258.0</td>\n",
              "      <td>1233.2</td>\n",
              "      <td>1189.1</td>\n",
              "      <td>1189.1</td>\n",
              "      <td>1189.1</td>\n",
              "      <td>1189.1</td>\n",
              "      <td>1189.1</td>\n",
              "      <td>1186.611667</td>\n",
              "    </tr>\n",
              "    <tr>\n",
              "      <th>11</th>\n",
              "      <td>1115.4</td>\n",
              "      <td>1196.6</td>\n",
              "      <td>1101.2</td>\n",
              "      <td>1172.4</td>\n",
              "      <td>27539084.24</td>\n",
              "      <td>23699.40</td>\n",
              "      <td>5</td>\n",
              "      <td>2017</td>\n",
              "      <td>3</td>\n",
              "      <td>0.597484</td>\n",
              "      <td>1115.4</td>\n",
              "      <td>1190.4</td>\n",
              "      <td>1150.0</td>\n",
              "      <td>1232.4</td>\n",
              "      <td>1279.2</td>\n",
              "      <td>1278.4</td>\n",
              "      <td>1267.8</td>\n",
              "      <td>1289.2</td>\n",
              "      <td>1258.0</td>\n",
              "      <td>1233.2</td>\n",
              "      <td>1189.1</td>\n",
              "      <td>1189.1</td>\n",
              "      <td>1189.1</td>\n",
              "      <td>1189.1</td>\n",
              "      <td>1186.611667</td>\n",
              "    </tr>\n",
              "    <tr>\n",
              "      <th>12</th>\n",
              "      <td>1172.4</td>\n",
              "      <td>1232.7</td>\n",
              "      <td>1166.8</td>\n",
              "      <td>1224.4</td>\n",
              "      <td>16371340.63</td>\n",
              "      <td>13629.31</td>\n",
              "      <td>6</td>\n",
              "      <td>2017</td>\n",
              "      <td>3</td>\n",
              "      <td>0.789074</td>\n",
              "      <td>1172.4</td>\n",
              "      <td>1115.4</td>\n",
              "      <td>1190.4</td>\n",
              "      <td>1150.0</td>\n",
              "      <td>1232.4</td>\n",
              "      <td>1279.2</td>\n",
              "      <td>1278.4</td>\n",
              "      <td>1267.8</td>\n",
              "      <td>1289.2</td>\n",
              "      <td>1258.0</td>\n",
              "      <td>1233.2</td>\n",
              "      <td>1189.1</td>\n",
              "      <td>1189.1</td>\n",
              "      <td>1189.1</td>\n",
              "      <td>1186.611667</td>\n",
              "    </tr>\n",
              "    <tr>\n",
              "      <th>13</th>\n",
              "      <td>1224.4</td>\n",
              "      <td>1247.3</td>\n",
              "      <td>1206.7</td>\n",
              "      <td>1238.5</td>\n",
              "      <td>21246366.91</td>\n",
              "      <td>17282.94</td>\n",
              "      <td>0</td>\n",
              "      <td>2017</td>\n",
              "      <td>3</td>\n",
              "      <td>0.347291</td>\n",
              "      <td>1224.4</td>\n",
              "      <td>1172.4</td>\n",
              "      <td>1115.4</td>\n",
              "      <td>1190.4</td>\n",
              "      <td>1150.0</td>\n",
              "      <td>1232.4</td>\n",
              "      <td>1279.2</td>\n",
              "      <td>1278.4</td>\n",
              "      <td>1267.8</td>\n",
              "      <td>1289.2</td>\n",
              "      <td>1258.0</td>\n",
              "      <td>1233.2</td>\n",
              "      <td>1189.1</td>\n",
              "      <td>1189.1</td>\n",
              "      <td>1186.611667</td>\n",
              "    </tr>\n",
              "    <tr>\n",
              "      <th>14</th>\n",
              "      <td>1238.5</td>\n",
              "      <td>1258.8</td>\n",
              "      <td>1218.9</td>\n",
              "      <td>1245.0</td>\n",
              "      <td>16837507.40</td>\n",
              "      <td>13549.92</td>\n",
              "      <td>1</td>\n",
              "      <td>2017</td>\n",
              "      <td>3</td>\n",
              "      <td>0.162907</td>\n",
              "      <td>1238.5</td>\n",
              "      <td>1224.4</td>\n",
              "      <td>1172.4</td>\n",
              "      <td>1115.4</td>\n",
              "      <td>1190.4</td>\n",
              "      <td>1150.0</td>\n",
              "      <td>1232.4</td>\n",
              "      <td>1279.2</td>\n",
              "      <td>1278.4</td>\n",
              "      <td>1267.8</td>\n",
              "      <td>1289.2</td>\n",
              "      <td>1258.0</td>\n",
              "      <td>1233.2</td>\n",
              "      <td>1189.1</td>\n",
              "      <td>1186.611667</td>\n",
              "    </tr>\n",
              "  </tbody>\n",
              "</table>\n",
              "</div>"
            ],
            "text/plain": [
              "      open    high     low  ...  close_d13  close_d14  close_avg_2m\n",
              "0   1195.5  1216.0  1176.6  ...     1189.1     1189.1   1186.611667\n",
              "1   1189.1  1236.4  1186.0  ...     1189.1     1189.1   1186.611667\n",
              "2   1233.2  1285.9  1212.0  ...     1189.1     1189.1   1186.611667\n",
              "3   1258.0  1294.9  1256.2  ...     1189.1     1189.1   1186.611667\n",
              "4   1289.2  1291.9  1240.0  ...     1189.1     1189.1   1186.611667\n",
              "5   1267.8  1279.9  1245.0  ...     1189.1     1189.1   1186.611667\n",
              "6   1278.4  1287.8  1268.0  ...     1189.1     1189.1   1186.611667\n",
              "7   1279.2  1282.0  1185.0  ...     1189.1     1189.1   1186.611667\n",
              "8   1232.4  1243.6  1142.2  ...     1189.1     1189.1   1186.611667\n",
              "9   1150.0  1207.6  1136.0  ...     1189.1     1189.1   1186.611667\n",
              "10  1190.4  1338.7   958.5  ...     1189.1     1189.1   1186.611667\n",
              "11  1115.4  1196.6  1101.2  ...     1189.1     1189.1   1186.611667\n",
              "12  1172.4  1232.7  1166.8  ...     1189.1     1189.1   1186.611667\n",
              "13  1224.4  1247.3  1206.7  ...     1189.1     1189.1   1186.611667\n",
              "14  1238.5  1258.8  1218.9  ...     1233.2     1189.1   1186.611667\n",
              "\n",
              "[15 rows x 25 columns]"
            ]
          },
          "metadata": {
            "tags": []
          },
          "execution_count": 18
        }
      ]
    },
    {
      "cell_type": "markdown",
      "metadata": {
        "id": "en-QvFUVpCT5"
      },
      "source": [
        "# Zagadka"
      ]
    },
    {
      "cell_type": "code",
      "metadata": {
        "colab": {
          "base_uri": "https://localhost:8080/"
        },
        "id": "vln_mzu3kGpG",
        "outputId": "b96f5a31-8df4-487d-bd5e-662b12e82583"
      },
      "source": [
        "bitcoin.groupby(\"year\")[\"Volume BTC\"].mean()"
      ],
      "execution_count": null,
      "outputs": [
        {
          "output_type": "execute_result",
          "data": {
            "text/plain": [
              "year\n",
              "2017    33214.560909\n",
              "2018    34024.317507\n",
              "2019    10810.209205\n",
              "2020     7913.895480\n",
              "2021    11224.572053\n",
              "Name: Volume BTC, dtype: float64"
            ]
          },
          "metadata": {
            "tags": []
          },
          "execution_count": 19
        }
      ]
    },
    {
      "cell_type": "code",
      "metadata": {
        "colab": {
          "base_uri": "https://localhost:8080/"
        },
        "id": "aTS7lcIbkPnP",
        "outputId": "426ead61-feee-4e4d-c6fa-7de5a8fd73bb"
      },
      "source": [
        "bitcoin.groupby(\"year\")[\"Volume USD\"].mean()"
      ],
      "execution_count": null,
      "outputs": [
        {
          "output_type": "execute_result",
          "data": {
            "text/plain": [
              "year\n",
              "2017    1.856361e+08\n",
              "2018    2.702091e+08\n",
              "2019    8.061435e+07\n",
              "2020    8.539509e+07\n",
              "2021    5.009955e+08\n",
              "Name: Volume USD, dtype: float64"
            ]
          },
          "metadata": {
            "tags": []
          },
          "execution_count": 20
        }
      ]
    },
    {
      "cell_type": "code",
      "metadata": {
        "id": "8or2SXyunYew"
      },
      "source": [
        "# Классификации - в качестве прогноза - один из известных заранее вариантов\n",
        "# Регрессии — в качестве прогноза - какое-то число"
      ],
      "execution_count": null,
      "outputs": []
    },
    {
      "cell_type": "code",
      "metadata": {
        "id": "wKjExOM3q4VR"
      },
      "source": [
        "bitcoin = pd.get_dummies(bitcoin, columns=[\"weekday\", \"month\", \"year\"])"
      ],
      "execution_count": null,
      "outputs": []
    },
    {
      "cell_type": "code",
      "metadata": {
        "colab": {
          "base_uri": "https://localhost:8080/"
        },
        "id": "jW2tiOAVq-ju",
        "outputId": "1b75e49c-56d5-4cbe-abce-76e0da6c4cc2"
      },
      "source": [
        "bitcoin.shape"
      ],
      "execution_count": null,
      "outputs": [
        {
          "output_type": "execute_result",
          "data": {
            "text/plain": [
              "(1505, 46)"
            ]
          },
          "metadata": {
            "tags": []
          },
          "execution_count": 23
        }
      ]
    },
    {
      "cell_type": "code",
      "metadata": {
        "colab": {
          "base_uri": "https://localhost:8080/"
        },
        "id": "prdkwiAwq_pS",
        "outputId": "931211b8-c6f5-4507-fb51-61c5c85db0c8"
      },
      "source": [
        "bitcoin.tail()"
      ],
      "execution_count": null,
      "outputs": [
        {
          "output_type": "execute_result",
          "data": {
            "text/html": [
              "<div>\n",
              "<style scoped>\n",
              "    .dataframe tbody tr th:only-of-type {\n",
              "        vertical-align: middle;\n",
              "    }\n",
              "\n",
              "    .dataframe tbody tr th {\n",
              "        vertical-align: top;\n",
              "    }\n",
              "\n",
              "    .dataframe thead th {\n",
              "        text-align: right;\n",
              "    }\n",
              "</style>\n",
              "<table border=\"1\" class=\"dataframe\">\n",
              "  <thead>\n",
              "    <tr style=\"text-align: right;\">\n",
              "      <th></th>\n",
              "      <th>open</th>\n",
              "      <th>high</th>\n",
              "      <th>low</th>\n",
              "      <th>close</th>\n",
              "      <th>Volume USD</th>\n",
              "      <th>Volume BTC</th>\n",
              "      <th>open2high</th>\n",
              "      <th>close_d1</th>\n",
              "      <th>close_d2</th>\n",
              "      <th>close_d3</th>\n",
              "      <th>close_d4</th>\n",
              "      <th>close_d5</th>\n",
              "      <th>close_d6</th>\n",
              "      <th>close_d7</th>\n",
              "      <th>close_d8</th>\n",
              "      <th>close_d9</th>\n",
              "      <th>close_d10</th>\n",
              "      <th>close_d11</th>\n",
              "      <th>close_d12</th>\n",
              "      <th>close_d13</th>\n",
              "      <th>close_d14</th>\n",
              "      <th>close_avg_2m</th>\n",
              "      <th>weekday_0</th>\n",
              "      <th>weekday_1</th>\n",
              "      <th>weekday_2</th>\n",
              "      <th>weekday_3</th>\n",
              "      <th>weekday_4</th>\n",
              "      <th>weekday_5</th>\n",
              "      <th>weekday_6</th>\n",
              "      <th>month_1</th>\n",
              "      <th>month_2</th>\n",
              "      <th>month_3</th>\n",
              "      <th>month_4</th>\n",
              "      <th>month_5</th>\n",
              "      <th>month_6</th>\n",
              "      <th>month_7</th>\n",
              "      <th>month_8</th>\n",
              "      <th>month_9</th>\n",
              "      <th>month_10</th>\n",
              "      <th>month_11</th>\n",
              "      <th>month_12</th>\n",
              "      <th>year_2017</th>\n",
              "      <th>year_2018</th>\n",
              "      <th>year_2019</th>\n",
              "      <th>year_2020</th>\n",
              "      <th>year_2021</th>\n",
              "    </tr>\n",
              "  </thead>\n",
              "  <tbody>\n",
              "    <tr>\n",
              "      <th>1500</th>\n",
              "      <td>55962.000000</td>\n",
              "      <td>58155.0</td>\n",
              "      <td>55714.0</td>\n",
              "      <td>58110.0</td>\n",
              "      <td>2.604657e+08</td>\n",
              "      <td>4482.287596</td>\n",
              "      <td>0.879967</td>\n",
              "      <td>55962.0</td>\n",
              "      <td>57991.0</td>\n",
              "      <td>59145.0</td>\n",
              "      <td>58240.239187</td>\n",
              "      <td>57020.000000</td>\n",
              "      <td>58959.000000</td>\n",
              "      <td>58724.000000</td>\n",
              "      <td>58796.000000</td>\n",
              "      <td>58840.0</td>\n",
              "      <td>57675.0</td>\n",
              "      <td>55780.0</td>\n",
              "      <td>55886.0</td>\n",
              "      <td>54993.0</td>\n",
              "      <td>51358.0</td>\n",
              "      <td>53038.114365</td>\n",
              "      <td>0</td>\n",
              "      <td>0</td>\n",
              "      <td>0</td>\n",
              "      <td>1</td>\n",
              "      <td>0</td>\n",
              "      <td>0</td>\n",
              "      <td>0</td>\n",
              "      <td>0</td>\n",
              "      <td>0</td>\n",
              "      <td>0</td>\n",
              "      <td>1</td>\n",
              "      <td>0</td>\n",
              "      <td>0</td>\n",
              "      <td>0</td>\n",
              "      <td>0</td>\n",
              "      <td>0</td>\n",
              "      <td>0</td>\n",
              "      <td>0</td>\n",
              "      <td>0</td>\n",
              "      <td>0</td>\n",
              "      <td>0</td>\n",
              "      <td>0</td>\n",
              "      <td>0</td>\n",
              "      <td>1</td>\n",
              "    </tr>\n",
              "    <tr>\n",
              "      <th>1501</th>\n",
              "      <td>58110.000000</td>\n",
              "      <td>58880.0</td>\n",
              "      <td>57713.0</td>\n",
              "      <td>58134.0</td>\n",
              "      <td>2.179731e+08</td>\n",
              "      <td>3749.493697</td>\n",
              "      <td>0.020566</td>\n",
              "      <td>58110.0</td>\n",
              "      <td>55962.0</td>\n",
              "      <td>57991.0</td>\n",
              "      <td>59145.000000</td>\n",
              "      <td>58240.239187</td>\n",
              "      <td>57020.000000</td>\n",
              "      <td>58959.000000</td>\n",
              "      <td>58724.000000</td>\n",
              "      <td>58796.0</td>\n",
              "      <td>58840.0</td>\n",
              "      <td>57675.0</td>\n",
              "      <td>55780.0</td>\n",
              "      <td>55886.0</td>\n",
              "      <td>54993.0</td>\n",
              "      <td>53359.331031</td>\n",
              "      <td>0</td>\n",
              "      <td>0</td>\n",
              "      <td>0</td>\n",
              "      <td>0</td>\n",
              "      <td>1</td>\n",
              "      <td>0</td>\n",
              "      <td>0</td>\n",
              "      <td>0</td>\n",
              "      <td>0</td>\n",
              "      <td>0</td>\n",
              "      <td>1</td>\n",
              "      <td>0</td>\n",
              "      <td>0</td>\n",
              "      <td>0</td>\n",
              "      <td>0</td>\n",
              "      <td>0</td>\n",
              "      <td>0</td>\n",
              "      <td>0</td>\n",
              "      <td>0</td>\n",
              "      <td>0</td>\n",
              "      <td>0</td>\n",
              "      <td>0</td>\n",
              "      <td>0</td>\n",
              "      <td>1</td>\n",
              "    </tr>\n",
              "    <tr>\n",
              "      <th>1502</th>\n",
              "      <td>58134.090643</td>\n",
              "      <td>61243.0</td>\n",
              "      <td>57900.0</td>\n",
              "      <td>59812.0</td>\n",
              "      <td>5.858312e+08</td>\n",
              "      <td>9794.542479</td>\n",
              "      <td>0.501917</td>\n",
              "      <td>58134.0</td>\n",
              "      <td>58110.0</td>\n",
              "      <td>55962.0</td>\n",
              "      <td>57991.000000</td>\n",
              "      <td>59145.000000</td>\n",
              "      <td>58240.239187</td>\n",
              "      <td>57020.000000</td>\n",
              "      <td>58959.000000</td>\n",
              "      <td>58724.0</td>\n",
              "      <td>58796.0</td>\n",
              "      <td>58840.0</td>\n",
              "      <td>57675.0</td>\n",
              "      <td>55780.0</td>\n",
              "      <td>55886.0</td>\n",
              "      <td>53554.164365</td>\n",
              "      <td>0</td>\n",
              "      <td>0</td>\n",
              "      <td>0</td>\n",
              "      <td>0</td>\n",
              "      <td>0</td>\n",
              "      <td>1</td>\n",
              "      <td>0</td>\n",
              "      <td>0</td>\n",
              "      <td>0</td>\n",
              "      <td>0</td>\n",
              "      <td>1</td>\n",
              "      <td>0</td>\n",
              "      <td>0</td>\n",
              "      <td>0</td>\n",
              "      <td>0</td>\n",
              "      <td>0</td>\n",
              "      <td>0</td>\n",
              "      <td>0</td>\n",
              "      <td>0</td>\n",
              "      <td>0</td>\n",
              "      <td>0</td>\n",
              "      <td>0</td>\n",
              "      <td>0</td>\n",
              "      <td>1</td>\n",
              "    </tr>\n",
              "    <tr>\n",
              "      <th>1503</th>\n",
              "      <td>59817.073785</td>\n",
              "      <td>60722.0</td>\n",
              "      <td>59308.0</td>\n",
              "      <td>60032.0</td>\n",
              "      <td>2.789436e+08</td>\n",
              "      <td>4646.581998</td>\n",
              "      <td>0.151999</td>\n",
              "      <td>59812.0</td>\n",
              "      <td>58134.0</td>\n",
              "      <td>58110.0</td>\n",
              "      <td>55962.000000</td>\n",
              "      <td>57991.000000</td>\n",
              "      <td>59145.000000</td>\n",
              "      <td>58240.239187</td>\n",
              "      <td>57020.000000</td>\n",
              "      <td>58959.0</td>\n",
              "      <td>58724.0</td>\n",
              "      <td>58796.0</td>\n",
              "      <td>58840.0</td>\n",
              "      <td>57675.0</td>\n",
              "      <td>55780.0</td>\n",
              "      <td>53776.231031</td>\n",
              "      <td>0</td>\n",
              "      <td>0</td>\n",
              "      <td>0</td>\n",
              "      <td>0</td>\n",
              "      <td>0</td>\n",
              "      <td>0</td>\n",
              "      <td>1</td>\n",
              "      <td>0</td>\n",
              "      <td>0</td>\n",
              "      <td>0</td>\n",
              "      <td>1</td>\n",
              "      <td>0</td>\n",
              "      <td>0</td>\n",
              "      <td>0</td>\n",
              "      <td>0</td>\n",
              "      <td>0</td>\n",
              "      <td>0</td>\n",
              "      <td>0</td>\n",
              "      <td>0</td>\n",
              "      <td>0</td>\n",
              "      <td>0</td>\n",
              "      <td>0</td>\n",
              "      <td>0</td>\n",
              "      <td>1</td>\n",
              "    </tr>\n",
              "    <tr>\n",
              "      <th>1504</th>\n",
              "      <td>60033.000000</td>\n",
              "      <td>61338.0</td>\n",
              "      <td>59492.0</td>\n",
              "      <td>59874.0</td>\n",
              "      <td>3.291828e+08</td>\n",
              "      <td>5497.925195</td>\n",
              "      <td>0.086132</td>\n",
              "      <td>60032.0</td>\n",
              "      <td>59812.0</td>\n",
              "      <td>58134.0</td>\n",
              "      <td>58110.000000</td>\n",
              "      <td>55962.000000</td>\n",
              "      <td>57991.000000</td>\n",
              "      <td>59145.000000</td>\n",
              "      <td>58240.239187</td>\n",
              "      <td>57020.0</td>\n",
              "      <td>58959.0</td>\n",
              "      <td>58724.0</td>\n",
              "      <td>58796.0</td>\n",
              "      <td>58840.0</td>\n",
              "      <td>57675.0</td>\n",
              "      <td>54029.414365</td>\n",
              "      <td>1</td>\n",
              "      <td>0</td>\n",
              "      <td>0</td>\n",
              "      <td>0</td>\n",
              "      <td>0</td>\n",
              "      <td>0</td>\n",
              "      <td>0</td>\n",
              "      <td>0</td>\n",
              "      <td>0</td>\n",
              "      <td>0</td>\n",
              "      <td>1</td>\n",
              "      <td>0</td>\n",
              "      <td>0</td>\n",
              "      <td>0</td>\n",
              "      <td>0</td>\n",
              "      <td>0</td>\n",
              "      <td>0</td>\n",
              "      <td>0</td>\n",
              "      <td>0</td>\n",
              "      <td>0</td>\n",
              "      <td>0</td>\n",
              "      <td>0</td>\n",
              "      <td>0</td>\n",
              "      <td>1</td>\n",
              "    </tr>\n",
              "  </tbody>\n",
              "</table>\n",
              "</div>"
            ],
            "text/plain": [
              "              open     high      low  ...  year_2019  year_2020  year_2021\n",
              "1500  55962.000000  58155.0  55714.0  ...          0          0          1\n",
              "1501  58110.000000  58880.0  57713.0  ...          0          0          1\n",
              "1502  58134.090643  61243.0  57900.0  ...          0          0          1\n",
              "1503  59817.073785  60722.0  59308.0  ...          0          0          1\n",
              "1504  60033.000000  61338.0  59492.0  ...          0          0          1\n",
              "\n",
              "[5 rows x 46 columns]"
            ]
          },
          "metadata": {
            "tags": []
          },
          "execution_count": 24
        }
      ]
    },
    {
      "cell_type": "code",
      "metadata": {
        "id": "nPMv-gZprA0C"
      },
      "source": [
        "bitcoin[\"target\"] = bitcoin[\"close\"].shift(-1)\n",
        "bitcoin.dropna(inplace=True)"
      ],
      "execution_count": null,
      "outputs": []
    },
    {
      "cell_type": "markdown",
      "metadata": {
        "id": "0zuao_uUrVT2"
      },
      "source": [
        "# Учебник (тренировочная выборка / обучающая)\n",
        "X_train = ?\n",
        "\n",
        "y_train = ?\n",
        "\n",
        "# Экзамен (тестовая выборка / проверочная)\n",
        "\n",
        "X_test = ?\n",
        "\n",
        "y_test = ?"
      ]
    },
    {
      "cell_type": "code",
      "metadata": {
        "id": "qebH-fRXrVzu"
      },
      "source": [
        "from sklearn.model_selection import train_test_split\n",
        "from sklearn.preprocessing import StandardScaler"
      ],
      "execution_count": null,
      "outputs": []
    },
    {
      "cell_type": "code",
      "metadata": {
        "id": "p6EnmcLMrtHt"
      },
      "source": [
        "\n",
        "\n",
        "X = bitcoin.drop(\"target\", axis=1)\n",
        "\n",
        "scaler = StandardScaler()\n",
        "X = scaler.fit_transform(X)\n",
        "\n",
        "y = bitcoin[\"target\"]\n",
        "X_train, X_test, y_train, y_test = train_test_split(X, y, test_size = 0.30)"
      ],
      "execution_count": null,
      "outputs": []
    },
    {
      "cell_type": "code",
      "metadata": {
        "id": "qJqOL8TVyHzp"
      },
      "source": [
        ""
      ],
      "execution_count": null,
      "outputs": []
    },
    {
      "cell_type": "code",
      "metadata": {
        "colab": {
          "base_uri": "https://localhost:8080/"
        },
        "id": "zJQxAp9lsmzc",
        "outputId": "b7e499ca-7bd3-4bfa-d599-0b6dd117daaf"
      },
      "source": [
        "from sklearn.linear_model import LinearRegression\n",
        "model = LinearRegression(normalize=True)\n",
        "model.fit(X_train, y_train)"
      ],
      "execution_count": null,
      "outputs": [
        {
          "output_type": "execute_result",
          "data": {
            "text/plain": [
              "LinearRegression(copy_X=True, fit_intercept=True, n_jobs=None, normalize=True)"
            ]
          },
          "metadata": {
            "tags": []
          },
          "execution_count": 28
        }
      ]
    },
    {
      "cell_type": "code",
      "metadata": {
        "id": "hLXEC9bByYDR"
      },
      "source": [
        "cols = bitcoin.drop(\"target\", axis=1).columns"
      ],
      "execution_count": null,
      "outputs": []
    },
    {
      "cell_type": "code",
      "metadata": {
        "colab": {
          "base_uri": "https://localhost:8080/",
          "height": 1000
        },
        "id": "fyJXTTcDszwg",
        "outputId": "7423f7ed-9b4a-4bc6-84c2-f84a176ee92d"
      },
      "source": [
        "pd.DataFrame(data=[model.coef_], columns=cols).T"
      ],
      "execution_count": null,
      "outputs": [
        {
          "output_type": "execute_result",
          "data": {
            "text/html": [
              "<div>\n",
              "<style scoped>\n",
              "    .dataframe tbody tr th:only-of-type {\n",
              "        vertical-align: middle;\n",
              "    }\n",
              "\n",
              "    .dataframe tbody tr th {\n",
              "        vertical-align: top;\n",
              "    }\n",
              "\n",
              "    .dataframe thead th {\n",
              "        text-align: right;\n",
              "    }\n",
              "</style>\n",
              "<table border=\"1\" class=\"dataframe\">\n",
              "  <thead>\n",
              "    <tr style=\"text-align: right;\">\n",
              "      <th></th>\n",
              "      <th>0</th>\n",
              "    </tr>\n",
              "  </thead>\n",
              "  <tbody>\n",
              "    <tr>\n",
              "      <th>open</th>\n",
              "      <td>50662.555545</td>\n",
              "    </tr>\n",
              "    <tr>\n",
              "      <th>high</th>\n",
              "      <td>-1224.996291</td>\n",
              "    </tr>\n",
              "    <tr>\n",
              "      <th>low</th>\n",
              "      <td>-16.935061</td>\n",
              "    </tr>\n",
              "    <tr>\n",
              "      <th>close</th>\n",
              "      <td>10757.679150</td>\n",
              "    </tr>\n",
              "    <tr>\n",
              "      <th>Volume USD</th>\n",
              "      <td>-1.606706</td>\n",
              "    </tr>\n",
              "    <tr>\n",
              "      <th>Volume BTC</th>\n",
              "      <td>12.124677</td>\n",
              "    </tr>\n",
              "    <tr>\n",
              "      <th>open2high</th>\n",
              "      <td>-7.270621</td>\n",
              "    </tr>\n",
              "    <tr>\n",
              "      <th>close_d1</th>\n",
              "      <td>-49830.891818</td>\n",
              "    </tr>\n",
              "    <tr>\n",
              "      <th>close_d2</th>\n",
              "      <td>1113.433901</td>\n",
              "    </tr>\n",
              "    <tr>\n",
              "      <th>close_d3</th>\n",
              "      <td>-589.659014</td>\n",
              "    </tr>\n",
              "    <tr>\n",
              "      <th>close_d4</th>\n",
              "      <td>-500.374271</td>\n",
              "    </tr>\n",
              "    <tr>\n",
              "      <th>close_d5</th>\n",
              "      <td>1044.619087</td>\n",
              "    </tr>\n",
              "    <tr>\n",
              "      <th>close_d6</th>\n",
              "      <td>-1639.267815</td>\n",
              "    </tr>\n",
              "    <tr>\n",
              "      <th>close_d7</th>\n",
              "      <td>1073.503395</td>\n",
              "    </tr>\n",
              "    <tr>\n",
              "      <th>close_d8</th>\n",
              "      <td>-598.070451</td>\n",
              "    </tr>\n",
              "    <tr>\n",
              "      <th>close_d9</th>\n",
              "      <td>1764.301338</td>\n",
              "    </tr>\n",
              "    <tr>\n",
              "      <th>close_d10</th>\n",
              "      <td>-947.832849</td>\n",
              "    </tr>\n",
              "    <tr>\n",
              "      <th>close_d11</th>\n",
              "      <td>-322.715687</td>\n",
              "    </tr>\n",
              "    <tr>\n",
              "      <th>close_d12</th>\n",
              "      <td>-1343.161556</td>\n",
              "    </tr>\n",
              "    <tr>\n",
              "      <th>close_d13</th>\n",
              "      <td>346.576471</td>\n",
              "    </tr>\n",
              "    <tr>\n",
              "      <th>close_d14</th>\n",
              "      <td>950.426050</td>\n",
              "    </tr>\n",
              "    <tr>\n",
              "      <th>close_avg_2m</th>\n",
              "      <td>46.656490</td>\n",
              "    </tr>\n",
              "    <tr>\n",
              "      <th>weekday_0</th>\n",
              "      <td>-4.083541</td>\n",
              "    </tr>\n",
              "    <tr>\n",
              "      <th>weekday_1</th>\n",
              "      <td>13.990868</td>\n",
              "    </tr>\n",
              "    <tr>\n",
              "      <th>weekday_2</th>\n",
              "      <td>-11.431161</td>\n",
              "    </tr>\n",
              "    <tr>\n",
              "      <th>weekday_3</th>\n",
              "      <td>27.658511</td>\n",
              "    </tr>\n",
              "    <tr>\n",
              "      <th>weekday_4</th>\n",
              "      <td>-1.557688</td>\n",
              "    </tr>\n",
              "    <tr>\n",
              "      <th>weekday_5</th>\n",
              "      <td>-18.032847</td>\n",
              "    </tr>\n",
              "    <tr>\n",
              "      <th>weekday_6</th>\n",
              "      <td>-10.568775</td>\n",
              "    </tr>\n",
              "    <tr>\n",
              "      <th>month_1</th>\n",
              "      <td>-31.207258</td>\n",
              "    </tr>\n",
              "    <tr>\n",
              "      <th>month_2</th>\n",
              "      <td>24.134111</td>\n",
              "    </tr>\n",
              "    <tr>\n",
              "      <th>month_3</th>\n",
              "      <td>-13.047578</td>\n",
              "    </tr>\n",
              "    <tr>\n",
              "      <th>month_4</th>\n",
              "      <td>-9.844020</td>\n",
              "    </tr>\n",
              "    <tr>\n",
              "      <th>month_5</th>\n",
              "      <td>5.634851</td>\n",
              "    </tr>\n",
              "    <tr>\n",
              "      <th>month_6</th>\n",
              "      <td>-12.053115</td>\n",
              "    </tr>\n",
              "    <tr>\n",
              "      <th>month_7</th>\n",
              "      <td>-3.452989</td>\n",
              "    </tr>\n",
              "    <tr>\n",
              "      <th>month_8</th>\n",
              "      <td>-4.233354</td>\n",
              "    </tr>\n",
              "    <tr>\n",
              "      <th>month_9</th>\n",
              "      <td>-13.775229</td>\n",
              "    </tr>\n",
              "    <tr>\n",
              "      <th>month_10</th>\n",
              "      <td>9.983254</td>\n",
              "    </tr>\n",
              "    <tr>\n",
              "      <th>month_11</th>\n",
              "      <td>6.210423</td>\n",
              "    </tr>\n",
              "    <tr>\n",
              "      <th>month_12</th>\n",
              "      <td>45.503749</td>\n",
              "    </tr>\n",
              "    <tr>\n",
              "      <th>year_2017</th>\n",
              "      <td>-20.020121</td>\n",
              "    </tr>\n",
              "    <tr>\n",
              "      <th>year_2018</th>\n",
              "      <td>-55.445644</td>\n",
              "    </tr>\n",
              "    <tr>\n",
              "      <th>year_2019</th>\n",
              "      <td>-29.671685</td>\n",
              "    </tr>\n",
              "    <tr>\n",
              "      <th>year_2020</th>\n",
              "      <td>12.796103</td>\n",
              "    </tr>\n",
              "    <tr>\n",
              "      <th>year_2021</th>\n",
              "      <td>151.081380</td>\n",
              "    </tr>\n",
              "  </tbody>\n",
              "</table>\n",
              "</div>"
            ],
            "text/plain": [
              "                         0\n",
              "open          50662.555545\n",
              "high          -1224.996291\n",
              "low             -16.935061\n",
              "close         10757.679150\n",
              "Volume USD       -1.606706\n",
              "Volume BTC       12.124677\n",
              "open2high        -7.270621\n",
              "close_d1     -49830.891818\n",
              "close_d2       1113.433901\n",
              "close_d3       -589.659014\n",
              "close_d4       -500.374271\n",
              "close_d5       1044.619087\n",
              "close_d6      -1639.267815\n",
              "close_d7       1073.503395\n",
              "close_d8       -598.070451\n",
              "close_d9       1764.301338\n",
              "close_d10      -947.832849\n",
              "close_d11      -322.715687\n",
              "close_d12     -1343.161556\n",
              "close_d13       346.576471\n",
              "close_d14       950.426050\n",
              "close_avg_2m     46.656490\n",
              "weekday_0        -4.083541\n",
              "weekday_1        13.990868\n",
              "weekday_2       -11.431161\n",
              "weekday_3        27.658511\n",
              "weekday_4        -1.557688\n",
              "weekday_5       -18.032847\n",
              "weekday_6       -10.568775\n",
              "month_1         -31.207258\n",
              "month_2          24.134111\n",
              "month_3         -13.047578\n",
              "month_4          -9.844020\n",
              "month_5           5.634851\n",
              "month_6         -12.053115\n",
              "month_7          -3.452989\n",
              "month_8          -4.233354\n",
              "month_9         -13.775229\n",
              "month_10          9.983254\n",
              "month_11          6.210423\n",
              "month_12         45.503749\n",
              "year_2017       -20.020121\n",
              "year_2018       -55.445644\n",
              "year_2019       -29.671685\n",
              "year_2020        12.796103\n",
              "year_2021       151.081380"
            ]
          },
          "metadata": {
            "tags": []
          },
          "execution_count": 30
        }
      ]
    },
    {
      "cell_type": "code",
      "metadata": {
        "id": "w6Crr_dPt_ql"
      },
      "source": [
        "from sklearn.metrics import mean_absolute_error\n",
        "from sklearn.metrics import max_error\n",
        "from sklearn.metrics import r2_score"
      ],
      "execution_count": null,
      "outputs": []
    },
    {
      "cell_type": "code",
      "metadata": {
        "colab": {
          "base_uri": "https://localhost:8080/",
          "height": 406
        },
        "id": "sEp1a7E5ue8n",
        "outputId": "f65c779b-b8ce-4920-e404-019b87f4dd6a"
      },
      "source": [
        "import matplotlib.pyplot as plt\n",
        "y_pred = model.predict(X_test)\n",
        "plt.plot(y, label=\"Actual\")\n",
        "plt.plot(model.predict(X), label=\"Predicted\")\n",
        "plt.legend()\n",
        "print(\"TEST\")\n",
        "print(\"MAE\", mean_absolute_error(y_pred, y_test))\n",
        "print(\"MAX\", max_error(y_pred, y_test))\n",
        "print(\"R2\", r2_score(y_pred, y_test))\n",
        "\n",
        "\n",
        "y_full_prediction = model.predict(X)\n",
        "print(\"TRAIN\")\n",
        "print(\"MAE\", mean_absolute_error(y_full_prediction, y))\n",
        "print(\"MAX\", max_error(y_full_prediction, y))\n",
        "print(\"R2\", r2_score(y_full_prediction, y))"
      ],
      "execution_count": null,
      "outputs": [
        {
          "output_type": "stream",
          "text": [
            "TEST\n",
            "MAE 337.76359006370996\n",
            "MAX 6723.378918538052\n",
            "R2 0.9953309043049192\n",
            "TRAIN\n",
            "MAE 327.11350907808503\n",
            "MAX 6723.378918538088\n",
            "R2 0.9968028618502663\n"
          ],
          "name": "stdout"
        },
        {
          "output_type": "display_data",
          "data": {
            "image/png": "[encoded data removed]",
            "text/plain": [
              "<Figure size 432x288 with 1 Axes>"
            ]
          },
          "metadata": {
            "tags": [],
            "needs_background": "light"
          }
        }
      ]
    },
    {
      "cell_type": "code",
      "metadata": {
        "colab": {
          "base_uri": "https://localhost:8080/",
          "height": 283
        },
        "id": "g6ZSwm19um81",
        "outputId": "74297ca5-d94e-45d5-ef6a-68bf4a7c42f5"
      },
      "source": [
        "plt.plot(y-model.predict(X), label=\"MAE\")\n",
        "plt.legend()"
      ],
      "execution_count": null,
      "outputs": [
        {
          "output_type": "execute_result",
          "data": {
            "text/plain": [
              "<matplotlib.legend.Legend at 0x7f3bb20fc090>"
            ]
          },
          "metadata": {
            "tags": []
          },
          "execution_count": 33
        },
        {
          "output_type": "display_data",
          "data": {
            "image/png": "[encoded data removed]",
            "text/plain": [
              "<Figure size 432x288 with 1 Axes>"
            ]
          },
          "metadata": {
            "tags": [],
            "needs_background": "light"
          }
        }
      ]
    },
    {
      "cell_type": "markdown",
      "metadata": {
        "id": "udDrT4Wifa4n"
      },
      "source": [
        "# День 3\n",
        "\n",
        "GridSearch, Cross-val\n",
        "\n",
        "Gradient Descent"
      ]
    },
    {
      "cell_type": "code",
      "metadata": {
        "id": "BQSUA1k2wFJa"
      },
      "source": [
        "from sklearn.ensemble import RandomForestRegressor"
      ],
      "execution_count": null,
      "outputs": []
    },
    {
      "cell_type": "code",
      "metadata": {
        "id": "V-xY8lIFwYpI"
      },
      "source": [
        "model = RandomForestRegressor(random_state=42)"
      ],
      "execution_count": null,
      "outputs": []
    },
    {
      "cell_type": "code",
      "metadata": {
        "id": "txrIotwfmdzv"
      },
      "source": [
        "param_grid = {\n",
        "    \"n_estimators\" : [10, 50, 100, 500],\n",
        "    \"criterion\" : [\"mae\", \"mse\"],\n",
        "    \"max_depth\": [5, 15],\n",
        "}"
      ],
      "execution_count": null,
      "outputs": []
    },
    {
      "cell_type": "code",
      "metadata": {
        "colab": {
          "base_uri": "https://localhost:8080/"
        },
        "id": "oqa_Z88vn2rp",
        "outputId": "572fabbb-0949-45f0-a5a4-2405758ec516"
      },
      "source": [
        "4 * 2 * 2 * 3"
      ],
      "execution_count": null,
      "outputs": [
        {
          "output_type": "execute_result",
          "data": {
            "text/plain": [
              "48"
            ]
          },
          "metadata": {
            "tags": []
          },
          "execution_count": 39
        }
      ]
    },
    {
      "cell_type": "markdown",
      "metadata": {
        "id": "8DMqdwykoe5-"
      },
      "source": [
        "Train/test\n",
        "\n",
        "XXXXXXXXXXXXXXXXXXXXX****** - вчера\n",
        "XXXXXXXXXXXXXXX************ - неплохо\n",
        "\n",
        "СЛУЧАЙНО ПЕРЕМЕШАТЬ\n",
        "XXXXXXXXXXXXXXX************\n",
        "\n",
        "Кросс-валидация\n",
        "\n",
        "XXXXXXXXXXXXXXXXXXXXX******\n",
        "XXXXXXXXXXXXXXX******XXXXXX\n",
        "XXXXXXXXX******XXXXXXXXXXXX\n",
        "XXXX******XXXXXXXXXXXXXXXXX\n",
        "******XXXXXXXXXXXXXXXXXXXXX\n",
        "\n",
        "\n",
        "\n",
        "\n",
        "\n",
        "\n",
        "\n",
        "\n"
      ]
    },
    {
      "cell_type": "code",
      "metadata": {
        "colab": {
          "base_uri": "https://localhost:8080/"
        },
        "id": "DW5JQztjnKiI",
        "outputId": "a441ff0a-8121-44ed-c785-a2776a74a535"
      },
      "source": [
        "from sklearn.model_selection import GridSearchCV\n",
        "GS = GridSearchCV(model, param_grid, scoring=\"max_error\", cv=3)\n",
        "GS.fit(X_train, y_train)"
      ],
      "execution_count": null,
      "outputs": [
        {
          "output_type": "execute_result",
          "data": {
            "text/plain": [
              "GridSearchCV(cv=3, error_score=nan,\n",
              "             estimator=RandomForestRegressor(bootstrap=True, ccp_alpha=0.0,\n",
              "                                             criterion='mse', max_depth=None,\n",
              "                                             max_features='auto',\n",
              "                                             max_leaf_nodes=None,\n",
              "                                             max_samples=None,\n",
              "                                             min_impurity_decrease=0.0,\n",
              "                                             min_impurity_split=None,\n",
              "                                             min_samples_leaf=1,\n",
              "                                             min_samples_split=2,\n",
              "                                             min_weight_fraction_leaf=0.0,\n",
              "                                             n_estimators=100, n_jobs=None,\n",
              "                                             oob_score=False, random_state=42,\n",
              "                                             verbose=0, warm_start=False),\n",
              "             iid='deprecated', n_jobs=None,\n",
              "             param_grid={'criterion': ['mae', 'mse'], 'max_depth': [5, 15],\n",
              "                         'n_estimators': [10, 50, 100, 500]},\n",
              "             pre_dispatch='2*n_jobs', refit=True, return_train_score=False,\n",
              "             scoring='max_error', verbose=0)"
            ]
          },
          "metadata": {
            "tags": []
          },
          "execution_count": 40
        }
      ]
    },
    {
      "cell_type": "code",
      "metadata": {
        "colab": {
          "base_uri": "https://localhost:8080/"
        },
        "id": "Wdr3WiI2odyb",
        "outputId": "c9f2e8a4-e189-47c2-ad10-efd4602ef853"
      },
      "source": [
        "GS.best_params_"
      ],
      "execution_count": null,
      "outputs": [
        {
          "output_type": "execute_result",
          "data": {
            "text/plain": [
              "{'criterion': 'mse', 'max_depth': 15, 'n_estimators': 50}"
            ]
          },
          "metadata": {
            "tags": []
          },
          "execution_count": 41
        }
      ]
    },
    {
      "cell_type": "code",
      "metadata": {
        "colab": {
          "base_uri": "https://localhost:8080/"
        },
        "id": "j_xr9KGUpnzk",
        "outputId": "b1dd9540-1c6b-4279-fcca-2294ac59bba4"
      },
      "source": [
        "GS.best_estimator_"
      ],
      "execution_count": null,
      "outputs": [
        {
          "output_type": "execute_result",
          "data": {
            "text/plain": [
              "RandomForestRegressor(bootstrap=True, ccp_alpha=0.0, criterion='mse',\n",
              "                      max_depth=15, max_features='auto', max_leaf_nodes=None,\n",
              "                      max_samples=None, min_impurity_decrease=0.0,\n",
              "                      min_impurity_split=None, min_samples_leaf=1,\n",
              "                      min_samples_split=2, min_weight_fraction_leaf=0.0,\n",
              "                      n_estimators=50, n_jobs=None, oob_score=False,\n",
              "                      random_state=42, verbose=0, warm_start=False)"
            ]
          },
          "metadata": {
            "tags": []
          },
          "execution_count": 42
        }
      ]
    },
    {
      "cell_type": "code",
      "metadata": {
        "colab": {
          "base_uri": "https://localhost:8080/"
        },
        "id": "LV_crvfHp0j-",
        "outputId": "956a3861-e38a-4458-c7e8-3efb8026b90d"
      },
      "source": [
        "GS.best_score_"
      ],
      "execution_count": null,
      "outputs": [
        {
          "output_type": "execute_result",
          "data": {
            "text/plain": [
              "-4393.51884078907"
            ]
          },
          "metadata": {
            "tags": []
          },
          "execution_count": 43
        }
      ]
    },
    {
      "cell_type": "code",
      "metadata": {
        "id": "R1hQNt2Bp3Rr"
      },
      "source": [
        "import pickle"
      ],
      "execution_count": null,
      "outputs": []
    },
    {
      "cell_type": "code",
      "metadata": {
        "id": "lARtVfBHrB4f"
      },
      "source": [
        "with open('best_random_forest.model', 'wb') as f:\n",
        "    pickle.dump(GS.best_estimator_, f)"
      ],
      "execution_count": null,
      "outputs": []
    },
    {
      "cell_type": "code",
      "metadata": {
        "id": "fPIVeywtrPYK"
      },
      "source": [
        "f = open(\"best_random_forest.model\", \"rb\")\n",
        "loaded_model = pickle.load(f)"
      ],
      "execution_count": null,
      "outputs": []
    },
    {
      "cell_type": "code",
      "metadata": {
        "colab": {
          "base_uri": "https://localhost:8080/"
        },
        "id": "LF2yLR87r00_",
        "outputId": "ffaa3652-f809-464d-dd03-21ae595c57ca"
      },
      "source": [
        "loaded_model"
      ],
      "execution_count": null,
      "outputs": [
        {
          "output_type": "execute_result",
          "data": {
            "text/plain": [
              "RandomForestRegressor(bootstrap=True, ccp_alpha=0.0, criterion='mse',\n",
              "                      max_depth=15, max_features='auto', max_leaf_nodes=None,\n",
              "                      max_samples=None, min_impurity_decrease=0.0,\n",
              "                      min_impurity_split=None, min_samples_leaf=1,\n",
              "                      min_samples_split=2, min_weight_fraction_leaf=0.0,\n",
              "                      n_estimators=50, n_jobs=None, oob_score=False,\n",
              "                      random_state=42, verbose=0, warm_start=False)"
            ]
          },
          "metadata": {
            "tags": []
          },
          "execution_count": 50
        }
      ]
    },
    {
      "cell_type": "code",
      "metadata": {
        "id": "957HjnYsr1mj"
      },
      "source": [
        ""
      ],
      "execution_count": null,
      "outputs": []
    }
  ]
}