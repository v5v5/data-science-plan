{
  "nbformat": 4,
  "nbformat_minor": 0,
  "metadata": {
    "colab": {
      "name": "Day2.ipynb",
      "provenance": [],
      "include_colab_link": true
    },
    "kernelspec": {
      "name": "python3",
      "display_name": "Python 3"
    }
  },
  "cells": [
    {
      "cell_type": "markdown",
      "metadata": {
        "id": "view-in-github",
        "colab_type": "text"
      },
      "source": [
        "<a href=\"https://colab.research.google.com/github/v5v5/data-science-plan/blob/main/Day2.ipynb\" target=\"_parent\"><img src=\"https://colab.research.google.com/assets/colab-badge.svg\" alt=\"Open In Colab\"/></a>"
      ]
    },
    {
      "cell_type": "markdown",
      "metadata": {
        "id": "p6IupmWmbWOR"
      },
      "source": [
        "# День 2\n",
        "Предсказание курса доллара\n",
        "\n",
        "* Хитро готовим данные\n",
        "* Пробуем разные модели\n",
        "* Оценим качество моделей\n",
        "* Выдадим вам ДЗ на конкурс\n",
        "\n",
        "Данные от центробанка: http://cbr.ru/currency_base/dynamics/\n",
        "\n",
        "Данные по нефти: https://www.eia.gov/dnav/pet/hist/rbrteD.htm"
      ]
    },
    {
      "cell_type": "code",
      "metadata": {
        "id": "uFBN2oWIoqyI"
      },
      "source": [
        "import pandas as pd"
      ],
      "execution_count": null,
      "outputs": []
    },
    {
      "cell_type": "code",
      "metadata": {
        "id": "fBlbO53KpwEQ"
      },
      "source": [
        "usd_rate = pd.read_excel(\"/content/usd_rate.xlsx\")"
      ],
      "execution_count": null,
      "outputs": []
    },
    {
      "cell_type": "code",
      "metadata": {
        "id": "w1RjTvUjp1Qq"
      },
      "source": [
        "brent = pd.read_excel(\"/content/brent.xls\", sheet_name=1, skiprows=2, names=[\"date\", \"price\"])"
      ],
      "execution_count": null,
      "outputs": []
    },
    {
      "cell_type": "code",
      "metadata": {
        "colab": {
          "base_uri": "https://localhost:8080/",
          "height": 294
        },
        "id": "SCX7AngFp-df",
        "outputId": "a7eb1e86-6c2e-438d-d292-f6c0ade56787"
      },
      "source": [
        "usd_rate.describe()"
      ],
      "execution_count": null,
      "outputs": [
        {
          "output_type": "execute_result",
          "data": {
            "text/html": [
              "<div>\n",
              "<style scoped>\n",
              "    .dataframe tbody tr th:only-of-type {\n",
              "        vertical-align: middle;\n",
              "    }\n",
              "\n",
              "    .dataframe tbody tr th {\n",
              "        vertical-align: top;\n",
              "    }\n",
              "\n",
              "    .dataframe thead th {\n",
              "        text-align: right;\n",
              "    }\n",
              "</style>\n",
              "<table border=\"1\" class=\"dataframe\">\n",
              "  <thead>\n",
              "    <tr style=\"text-align: right;\">\n",
              "      <th></th>\n",
              "      <th>nominal</th>\n",
              "      <th>curs</th>\n",
              "    </tr>\n",
              "  </thead>\n",
              "  <tbody>\n",
              "    <tr>\n",
              "      <th>count</th>\n",
              "      <td>984.0</td>\n",
              "      <td>984.000000</td>\n",
              "    </tr>\n",
              "    <tr>\n",
              "      <th>mean</th>\n",
              "      <td>1.0</td>\n",
              "      <td>65.048381</td>\n",
              "    </tr>\n",
              "    <tr>\n",
              "      <th>std</th>\n",
              "      <td>0.0</td>\n",
              "      <td>6.183982</td>\n",
              "    </tr>\n",
              "    <tr>\n",
              "      <th>min</th>\n",
              "      <td>1.0</td>\n",
              "      <td>55.671700</td>\n",
              "    </tr>\n",
              "    <tr>\n",
              "      <th>25%</th>\n",
              "      <td>1.0</td>\n",
              "      <td>59.629550</td>\n",
              "    </tr>\n",
              "    <tr>\n",
              "      <th>50%</th>\n",
              "      <td>1.0</td>\n",
              "      <td>64.250850</td>\n",
              "    </tr>\n",
              "    <tr>\n",
              "      <th>75%</th>\n",
              "      <td>1.0</td>\n",
              "      <td>68.421175</td>\n",
              "    </tr>\n",
              "    <tr>\n",
              "      <th>max</th>\n",
              "      <td>1.0</td>\n",
              "      <td>80.881500</td>\n",
              "    </tr>\n",
              "  </tbody>\n",
              "</table>\n",
              "</div>"
            ],
            "text/plain": [
              "       nominal        curs\n",
              "count    984.0  984.000000\n",
              "mean       1.0   65.048381\n",
              "std        0.0    6.183982\n",
              "min        1.0   55.671700\n",
              "25%        1.0   59.629550\n",
              "50%        1.0   64.250850\n",
              "75%        1.0   68.421175\n",
              "max        1.0   80.881500"
            ]
          },
          "metadata": {
            "tags": []
          },
          "execution_count": 4
        }
      ]
    },
    {
      "cell_type": "code",
      "metadata": {
        "colab": {
          "base_uri": "https://localhost:8080/",
          "height": 283
        },
        "id": "Wg71UuLurDOa",
        "outputId": "d5eb806d-57a6-476c-b173-f677ed33fc7a"
      },
      "source": [
        "usd_rate[\"curs\"].plot()"
      ],
      "execution_count": null,
      "outputs": [
        {
          "output_type": "execute_result",
          "data": {
            "text/plain": [
              "<matplotlib.axes._subplots.AxesSubplot at 0x7f05724488d0>"
            ]
          },
          "metadata": {
            "tags": []
          },
          "execution_count": 5
        },
        {
          "output_type": "display_data",
          "data": {
            "image/png": "[encoded data removed]",
            "text/plain": [
              "<Figure size 432x288 with 1 Axes>"
            ]
          },
          "metadata": {
            "tags": [],
            "needs_background": "light"
          }
        }
      ]
    },
    {
      "cell_type": "code",
      "metadata": {
        "colab": {
          "base_uri": "https://localhost:8080/",
          "height": 283
        },
        "id": "QHxYpzkvrN7x",
        "outputId": "1255ed8a-12ec-4644-a720-adcea27bc4ad"
      },
      "source": [
        "brent[\"price\"].plot()"
      ],
      "execution_count": null,
      "outputs": [
        {
          "output_type": "execute_result",
          "data": {
            "text/plain": [
              "<matplotlib.axes._subplots.AxesSubplot at 0x7f057208d8d0>"
            ]
          },
          "metadata": {
            "tags": []
          },
          "execution_count": 6
        },
        {
          "output_type": "display_data",
          "data": {
            "image/png": "[encoded data removed]",
            "text/plain": [
              "<Figure size 432x288 with 1 Axes>"
            ]
          },
          "metadata": {
            "tags": [],
            "needs_background": "light"
          }
        }
      ]
    },
    {
      "cell_type": "code",
      "metadata": {
        "colab": {
          "base_uri": "https://localhost:8080/",
          "height": 141
        },
        "id": "K3Mx_MV9rYT4",
        "outputId": "a2b63f9c-d737-499f-c654-35db052f087d"
      },
      "source": [
        "usd_rate.head(3)"
      ],
      "execution_count": null,
      "outputs": [
        {
          "output_type": "execute_result",
          "data": {
            "text/html": [
              "<div>\n",
              "<style scoped>\n",
              "    .dataframe tbody tr th:only-of-type {\n",
              "        vertical-align: middle;\n",
              "    }\n",
              "\n",
              "    .dataframe tbody tr th {\n",
              "        vertical-align: top;\n",
              "    }\n",
              "\n",
              "    .dataframe thead th {\n",
              "        text-align: right;\n",
              "    }\n",
              "</style>\n",
              "<table border=\"1\" class=\"dataframe\">\n",
              "  <thead>\n",
              "    <tr style=\"text-align: right;\">\n",
              "      <th></th>\n",
              "      <th>nominal</th>\n",
              "      <th>data</th>\n",
              "      <th>curs</th>\n",
              "      <th>cdx</th>\n",
              "    </tr>\n",
              "  </thead>\n",
              "  <tbody>\n",
              "    <tr>\n",
              "      <th>0</th>\n",
              "      <td>1</td>\n",
              "      <td>2017-03-01</td>\n",
              "      <td>57.9627</td>\n",
              "      <td>Доллар США</td>\n",
              "    </tr>\n",
              "    <tr>\n",
              "      <th>1</th>\n",
              "      <td>1</td>\n",
              "      <td>2017-03-02</td>\n",
              "      <td>58.3776</td>\n",
              "      <td>Доллар США</td>\n",
              "    </tr>\n",
              "    <tr>\n",
              "      <th>2</th>\n",
              "      <td>1</td>\n",
              "      <td>2017-03-03</td>\n",
              "      <td>58.4067</td>\n",
              "      <td>Доллар США</td>\n",
              "    </tr>\n",
              "  </tbody>\n",
              "</table>\n",
              "</div>"
            ],
            "text/plain": [
              "   nominal       data     curs         cdx\n",
              "0        1 2017-03-01  57.9627  Доллар США\n",
              "1        1 2017-03-02  58.3776  Доллар США\n",
              "2        1 2017-03-03  58.4067  Доллар США"
            ]
          },
          "metadata": {
            "tags": []
          },
          "execution_count": 7
        }
      ]
    },
    {
      "cell_type": "code",
      "metadata": {
        "colab": {
          "base_uri": "https://localhost:8080/",
          "height": 141
        },
        "id": "0c6_Nj3Crw6x",
        "outputId": "f68d769e-0eee-4750-e094-43a1b0f34334"
      },
      "source": [
        "brent.head(3)"
      ],
      "execution_count": null,
      "outputs": [
        {
          "output_type": "execute_result",
          "data": {
            "text/html": [
              "<div>\n",
              "<style scoped>\n",
              "    .dataframe tbody tr th:only-of-type {\n",
              "        vertical-align: middle;\n",
              "    }\n",
              "\n",
              "    .dataframe tbody tr th {\n",
              "        vertical-align: top;\n",
              "    }\n",
              "\n",
              "    .dataframe thead th {\n",
              "        text-align: right;\n",
              "    }\n",
              "</style>\n",
              "<table border=\"1\" class=\"dataframe\">\n",
              "  <thead>\n",
              "    <tr style=\"text-align: right;\">\n",
              "      <th></th>\n",
              "      <th>date</th>\n",
              "      <th>price</th>\n",
              "    </tr>\n",
              "  </thead>\n",
              "  <tbody>\n",
              "    <tr>\n",
              "      <th>0</th>\n",
              "      <td>1987-05-20</td>\n",
              "      <td>18.63</td>\n",
              "    </tr>\n",
              "    <tr>\n",
              "      <th>1</th>\n",
              "      <td>1987-05-21</td>\n",
              "      <td>18.45</td>\n",
              "    </tr>\n",
              "    <tr>\n",
              "      <th>2</th>\n",
              "      <td>1987-05-22</td>\n",
              "      <td>18.55</td>\n",
              "    </tr>\n",
              "  </tbody>\n",
              "</table>\n",
              "</div>"
            ],
            "text/plain": [
              "        date  price\n",
              "0 1987-05-20  18.63\n",
              "1 1987-05-21  18.45\n",
              "2 1987-05-22  18.55"
            ]
          },
          "metadata": {
            "tags": []
          },
          "execution_count": 8
        }
      ]
    },
    {
      "cell_type": "code",
      "metadata": {
        "id": "xm4NthrrryKI"
      },
      "source": [
        "df = usd_rate.set_index(\"data\").join(brent.set_index(\"date\"))"
      ],
      "execution_count": null,
      "outputs": []
    },
    {
      "cell_type": "code",
      "metadata": {
        "colab": {
          "base_uri": "https://localhost:8080/",
          "height": 233
        },
        "id": "WhGWjbCmsF6H",
        "outputId": "987c9bbd-6df9-4476-8a5c-4305bab6369f"
      },
      "source": [
        "df.head(5)"
      ],
      "execution_count": null,
      "outputs": [
        {
          "output_type": "execute_result",
          "data": {
            "text/html": [
              "<div>\n",
              "<style scoped>\n",
              "    .dataframe tbody tr th:only-of-type {\n",
              "        vertical-align: middle;\n",
              "    }\n",
              "\n",
              "    .dataframe tbody tr th {\n",
              "        vertical-align: top;\n",
              "    }\n",
              "\n",
              "    .dataframe thead th {\n",
              "        text-align: right;\n",
              "    }\n",
              "</style>\n",
              "<table border=\"1\" class=\"dataframe\">\n",
              "  <thead>\n",
              "    <tr style=\"text-align: right;\">\n",
              "      <th></th>\n",
              "      <th>nominal</th>\n",
              "      <th>curs</th>\n",
              "      <th>cdx</th>\n",
              "      <th>price</th>\n",
              "    </tr>\n",
              "    <tr>\n",
              "      <th>data</th>\n",
              "      <th></th>\n",
              "      <th></th>\n",
              "      <th></th>\n",
              "      <th></th>\n",
              "    </tr>\n",
              "  </thead>\n",
              "  <tbody>\n",
              "    <tr>\n",
              "      <th>2017-03-01</th>\n",
              "      <td>1</td>\n",
              "      <td>57.9627</td>\n",
              "      <td>Доллар США</td>\n",
              "      <td>55.72</td>\n",
              "    </tr>\n",
              "    <tr>\n",
              "      <th>2017-03-02</th>\n",
              "      <td>1</td>\n",
              "      <td>58.3776</td>\n",
              "      <td>Доллар США</td>\n",
              "      <td>54.16</td>\n",
              "    </tr>\n",
              "    <tr>\n",
              "      <th>2017-03-03</th>\n",
              "      <td>1</td>\n",
              "      <td>58.4067</td>\n",
              "      <td>Доллар США</td>\n",
              "      <td>54.12</td>\n",
              "    </tr>\n",
              "    <tr>\n",
              "      <th>2017-03-04</th>\n",
              "      <td>1</td>\n",
              "      <td>58.9099</td>\n",
              "      <td>Доллар США</td>\n",
              "      <td>NaN</td>\n",
              "    </tr>\n",
              "    <tr>\n",
              "      <th>2017-03-07</th>\n",
              "      <td>1</td>\n",
              "      <td>58.3370</td>\n",
              "      <td>Доллар США</td>\n",
              "      <td>54.61</td>\n",
              "    </tr>\n",
              "  </tbody>\n",
              "</table>\n",
              "</div>"
            ],
            "text/plain": [
              "            nominal     curs         cdx  price\n",
              "data                                           \n",
              "2017-03-01        1  57.9627  Доллар США  55.72\n",
              "2017-03-02        1  58.3776  Доллар США  54.16\n",
              "2017-03-03        1  58.4067  Доллар США  54.12\n",
              "2017-03-04        1  58.9099  Доллар США    NaN\n",
              "2017-03-07        1  58.3370  Доллар США  54.61"
            ]
          },
          "metadata": {
            "tags": []
          },
          "execution_count": 10
        }
      ]
    },
    {
      "cell_type": "code",
      "metadata": {
        "id": "YLxIwy47sRPO"
      },
      "source": [
        "df.drop([\"nominal\", \"cdx\"], axis=1, inplace=True) "
      ],
      "execution_count": null,
      "outputs": []
    },
    {
      "cell_type": "code",
      "metadata": {
        "id": "dTu_AJ1Rsyg6"
      },
      "source": [
        "df.fillna(method=\"ffill\", inplace=True)"
      ],
      "execution_count": null,
      "outputs": []
    },
    {
      "cell_type": "code",
      "metadata": {
        "id": "8-DT6JuKs0na"
      },
      "source": [
        "df.reset_index(inplace=True)"
      ],
      "execution_count": null,
      "outputs": []
    },
    {
      "cell_type": "code",
      "metadata": {
        "colab": {
          "base_uri": "https://localhost:8080/",
          "height": 283
        },
        "id": "iw8u3kCTtEvw",
        "outputId": "33ddf666-5cdf-4975-caaf-0443947c1ab0"
      },
      "source": [
        "import matplotlib.pyplot as plt\n",
        "plt.plot(df[\"data\"], df[\"curs\"], label=\"USD/RUB Rate\")\n",
        "plt.plot(df[\"data\"], df[\"price\"], label=\"Oil Price\")\n",
        "plt.legend()"
      ],
      "execution_count": null,
      "outputs": [
        {
          "output_type": "execute_result",
          "data": {
            "text/plain": [
              "<matplotlib.legend.Legend at 0x7f0571b5f110>"
            ]
          },
          "metadata": {
            "tags": []
          },
          "execution_count": 14
        },
        {
          "output_type": "display_data",
          "data": {
            "image/png": "[encoded data removed]",
            "text/plain": [
              "<Figure size 432x288 with 1 Axes>"
            ]
          },
          "metadata": {
            "tags": [],
            "needs_background": "light"
          }
        }
      ]
    },
    {
      "cell_type": "code",
      "metadata": {
        "id": "WvgVozput7Y8"
      },
      "source": [
        "df[\"weekday\"] = df[\"data\"].dt.weekday\n",
        "df[\"month\"] = df[\"data\"].dt.month\n",
        "df[\"year\"] = df[\"data\"].dt.year"
      ],
      "execution_count": null,
      "outputs": []
    },
    {
      "cell_type": "code",
      "metadata": {
        "colab": {
          "base_uri": "https://localhost:8080/",
          "height": 202
        },
        "id": "Y0XtSyM9uUgn",
        "outputId": "146ebd40-7e2d-4eab-a664-4f9a80358687"
      },
      "source": [
        "df.head(5)"
      ],
      "execution_count": null,
      "outputs": [
        {
          "output_type": "execute_result",
          "data": {
            "text/html": [
              "<div>\n",
              "<style scoped>\n",
              "    .dataframe tbody tr th:only-of-type {\n",
              "        vertical-align: middle;\n",
              "    }\n",
              "\n",
              "    .dataframe tbody tr th {\n",
              "        vertical-align: top;\n",
              "    }\n",
              "\n",
              "    .dataframe thead th {\n",
              "        text-align: right;\n",
              "    }\n",
              "</style>\n",
              "<table border=\"1\" class=\"dataframe\">\n",
              "  <thead>\n",
              "    <tr style=\"text-align: right;\">\n",
              "      <th></th>\n",
              "      <th>data</th>\n",
              "      <th>curs</th>\n",
              "      <th>price</th>\n",
              "      <th>weekday</th>\n",
              "      <th>month</th>\n",
              "      <th>year</th>\n",
              "    </tr>\n",
              "  </thead>\n",
              "  <tbody>\n",
              "    <tr>\n",
              "      <th>0</th>\n",
              "      <td>2017-03-01</td>\n",
              "      <td>57.9627</td>\n",
              "      <td>55.72</td>\n",
              "      <td>2</td>\n",
              "      <td>3</td>\n",
              "      <td>2017</td>\n",
              "    </tr>\n",
              "    <tr>\n",
              "      <th>1</th>\n",
              "      <td>2017-03-02</td>\n",
              "      <td>58.3776</td>\n",
              "      <td>54.16</td>\n",
              "      <td>3</td>\n",
              "      <td>3</td>\n",
              "      <td>2017</td>\n",
              "    </tr>\n",
              "    <tr>\n",
              "      <th>2</th>\n",
              "      <td>2017-03-03</td>\n",
              "      <td>58.4067</td>\n",
              "      <td>54.12</td>\n",
              "      <td>4</td>\n",
              "      <td>3</td>\n",
              "      <td>2017</td>\n",
              "    </tr>\n",
              "    <tr>\n",
              "      <th>3</th>\n",
              "      <td>2017-03-04</td>\n",
              "      <td>58.9099</td>\n",
              "      <td>54.12</td>\n",
              "      <td>5</td>\n",
              "      <td>3</td>\n",
              "      <td>2017</td>\n",
              "    </tr>\n",
              "    <tr>\n",
              "      <th>4</th>\n",
              "      <td>2017-03-07</td>\n",
              "      <td>58.3370</td>\n",
              "      <td>54.61</td>\n",
              "      <td>1</td>\n",
              "      <td>3</td>\n",
              "      <td>2017</td>\n",
              "    </tr>\n",
              "  </tbody>\n",
              "</table>\n",
              "</div>"
            ],
            "text/plain": [
              "        data     curs  price  weekday  month  year\n",
              "0 2017-03-01  57.9627  55.72        2      3  2017\n",
              "1 2017-03-02  58.3776  54.16        3      3  2017\n",
              "2 2017-03-03  58.4067  54.12        4      3  2017\n",
              "3 2017-03-04  58.9099  54.12        5      3  2017\n",
              "4 2017-03-07  58.3370  54.61        1      3  2017"
            ]
          },
          "metadata": {
            "tags": []
          },
          "execution_count": 16
        }
      ]
    },
    {
      "cell_type": "code",
      "metadata": {
        "colab": {
          "base_uri": "https://localhost:8080/",
          "height": 294
        },
        "id": "6_vyuLOuuvm6",
        "outputId": "d3e597ad-22c5-409a-c71c-909e68ae8fdb"
      },
      "source": [
        "df[ df[\"weekday\"] == 2 ].describe() "
      ],
      "execution_count": null,
      "outputs": [
        {
          "output_type": "execute_result",
          "data": {
            "text/html": [
              "<div>\n",
              "<style scoped>\n",
              "    .dataframe tbody tr th:only-of-type {\n",
              "        vertical-align: middle;\n",
              "    }\n",
              "\n",
              "    .dataframe tbody tr th {\n",
              "        vertical-align: top;\n",
              "    }\n",
              "\n",
              "    .dataframe thead th {\n",
              "        text-align: right;\n",
              "    }\n",
              "</style>\n",
              "<table border=\"1\" class=\"dataframe\">\n",
              "  <thead>\n",
              "    <tr style=\"text-align: right;\">\n",
              "      <th></th>\n",
              "      <th>curs</th>\n",
              "      <th>price</th>\n",
              "      <th>weekday</th>\n",
              "      <th>month</th>\n",
              "      <th>year</th>\n",
              "    </tr>\n",
              "  </thead>\n",
              "  <tbody>\n",
              "    <tr>\n",
              "      <th>count</th>\n",
              "      <td>198.000000</td>\n",
              "      <td>198.000000</td>\n",
              "      <td>198.0</td>\n",
              "      <td>198.000000</td>\n",
              "      <td>198.000000</td>\n",
              "    </tr>\n",
              "    <tr>\n",
              "      <th>mean</th>\n",
              "      <td>64.960390</td>\n",
              "      <td>58.211515</td>\n",
              "      <td>2.0</td>\n",
              "      <td>6.681818</td>\n",
              "      <td>2018.631313</td>\n",
              "    </tr>\n",
              "    <tr>\n",
              "      <th>std</th>\n",
              "      <td>6.219307</td>\n",
              "      <td>13.202679</td>\n",
              "      <td>0.0</td>\n",
              "      <td>3.416112</td>\n",
              "      <td>1.166551</td>\n",
              "    </tr>\n",
              "    <tr>\n",
              "      <th>min</th>\n",
              "      <td>55.671700</td>\n",
              "      <td>13.770000</td>\n",
              "      <td>2.0</td>\n",
              "      <td>1.000000</td>\n",
              "      <td>2017.000000</td>\n",
              "    </tr>\n",
              "    <tr>\n",
              "      <th>25%</th>\n",
              "      <td>59.500475</td>\n",
              "      <td>50.157500</td>\n",
              "      <td>2.0</td>\n",
              "      <td>4.000000</td>\n",
              "      <td>2018.000000</td>\n",
              "    </tr>\n",
              "    <tr>\n",
              "      <th>50%</th>\n",
              "      <td>64.205250</td>\n",
              "      <td>60.640000</td>\n",
              "      <td>2.0</td>\n",
              "      <td>7.000000</td>\n",
              "      <td>2019.000000</td>\n",
              "    </tr>\n",
              "    <tr>\n",
              "      <th>75%</th>\n",
              "      <td>68.143250</td>\n",
              "      <td>66.842500</td>\n",
              "      <td>2.0</td>\n",
              "      <td>10.000000</td>\n",
              "      <td>2020.000000</td>\n",
              "    </tr>\n",
              "    <tr>\n",
              "      <th>max</th>\n",
              "      <td>80.000600</td>\n",
              "      <td>85.450000</td>\n",
              "      <td>2.0</td>\n",
              "      <td>12.000000</td>\n",
              "      <td>2021.000000</td>\n",
              "    </tr>\n",
              "  </tbody>\n",
              "</table>\n",
              "</div>"
            ],
            "text/plain": [
              "             curs       price  weekday       month         year\n",
              "count  198.000000  198.000000    198.0  198.000000   198.000000\n",
              "mean    64.960390   58.211515      2.0    6.681818  2018.631313\n",
              "std      6.219307   13.202679      0.0    3.416112     1.166551\n",
              "min     55.671700   13.770000      2.0    1.000000  2017.000000\n",
              "25%     59.500475   50.157500      2.0    4.000000  2018.000000\n",
              "50%     64.205250   60.640000      2.0    7.000000  2019.000000\n",
              "75%     68.143250   66.842500      2.0   10.000000  2020.000000\n",
              "max     80.000600   85.450000      2.0   12.000000  2021.000000"
            ]
          },
          "metadata": {
            "tags": []
          },
          "execution_count": 17
        }
      ]
    },
    {
      "cell_type": "code",
      "metadata": {
        "colab": {
          "base_uri": "https://localhost:8080/",
          "height": 415
        },
        "id": "wOUqdx_YvHNc",
        "outputId": "50dc2234-27b1-4c58-a072-2028fc5ec131"
      },
      "source": [
        "df"
      ],
      "execution_count": null,
      "outputs": [
        {
          "output_type": "execute_result",
          "data": {
            "text/html": [
              "<div>\n",
              "<style scoped>\n",
              "    .dataframe tbody tr th:only-of-type {\n",
              "        vertical-align: middle;\n",
              "    }\n",
              "\n",
              "    .dataframe tbody tr th {\n",
              "        vertical-align: top;\n",
              "    }\n",
              "\n",
              "    .dataframe thead th {\n",
              "        text-align: right;\n",
              "    }\n",
              "</style>\n",
              "<table border=\"1\" class=\"dataframe\">\n",
              "  <thead>\n",
              "    <tr style=\"text-align: right;\">\n",
              "      <th></th>\n",
              "      <th>data</th>\n",
              "      <th>curs</th>\n",
              "      <th>price</th>\n",
              "      <th>weekday</th>\n",
              "      <th>month</th>\n",
              "      <th>year</th>\n",
              "    </tr>\n",
              "  </thead>\n",
              "  <tbody>\n",
              "    <tr>\n",
              "      <th>0</th>\n",
              "      <td>2017-03-01</td>\n",
              "      <td>57.9627</td>\n",
              "      <td>55.72</td>\n",
              "      <td>2</td>\n",
              "      <td>3</td>\n",
              "      <td>2017</td>\n",
              "    </tr>\n",
              "    <tr>\n",
              "      <th>1</th>\n",
              "      <td>2017-03-02</td>\n",
              "      <td>58.3776</td>\n",
              "      <td>54.16</td>\n",
              "      <td>3</td>\n",
              "      <td>3</td>\n",
              "      <td>2017</td>\n",
              "    </tr>\n",
              "    <tr>\n",
              "      <th>2</th>\n",
              "      <td>2017-03-03</td>\n",
              "      <td>58.4067</td>\n",
              "      <td>54.12</td>\n",
              "      <td>4</td>\n",
              "      <td>3</td>\n",
              "      <td>2017</td>\n",
              "    </tr>\n",
              "    <tr>\n",
              "      <th>3</th>\n",
              "      <td>2017-03-04</td>\n",
              "      <td>58.9099</td>\n",
              "      <td>54.12</td>\n",
              "      <td>5</td>\n",
              "      <td>3</td>\n",
              "      <td>2017</td>\n",
              "    </tr>\n",
              "    <tr>\n",
              "      <th>4</th>\n",
              "      <td>2017-03-07</td>\n",
              "      <td>58.3370</td>\n",
              "      <td>54.61</td>\n",
              "      <td>1</td>\n",
              "      <td>3</td>\n",
              "      <td>2017</td>\n",
              "    </tr>\n",
              "    <tr>\n",
              "      <th>...</th>\n",
              "      <td>...</td>\n",
              "      <td>...</td>\n",
              "      <td>...</td>\n",
              "      <td>...</td>\n",
              "      <td>...</td>\n",
              "      <td>...</td>\n",
              "    </tr>\n",
              "    <tr>\n",
              "      <th>979</th>\n",
              "      <td>2021-02-20</td>\n",
              "      <td>73.9717</td>\n",
              "      <td>62.84</td>\n",
              "      <td>5</td>\n",
              "      <td>2</td>\n",
              "      <td>2021</td>\n",
              "    </tr>\n",
              "    <tr>\n",
              "      <th>980</th>\n",
              "      <td>2021-02-21</td>\n",
              "      <td>73.9833</td>\n",
              "      <td>62.84</td>\n",
              "      <td>6</td>\n",
              "      <td>2</td>\n",
              "      <td>2021</td>\n",
              "    </tr>\n",
              "    <tr>\n",
              "      <th>981</th>\n",
              "      <td>2021-02-25</td>\n",
              "      <td>73.7532</td>\n",
              "      <td>66.69</td>\n",
              "      <td>3</td>\n",
              "      <td>2</td>\n",
              "      <td>2021</td>\n",
              "    </tr>\n",
              "    <tr>\n",
              "      <th>982</th>\n",
              "      <td>2021-02-26</td>\n",
              "      <td>73.4747</td>\n",
              "      <td>65.86</td>\n",
              "      <td>4</td>\n",
              "      <td>2</td>\n",
              "      <td>2021</td>\n",
              "    </tr>\n",
              "    <tr>\n",
              "      <th>983</th>\n",
              "      <td>2021-02-27</td>\n",
              "      <td>74.4373</td>\n",
              "      <td>65.86</td>\n",
              "      <td>5</td>\n",
              "      <td>2</td>\n",
              "      <td>2021</td>\n",
              "    </tr>\n",
              "  </tbody>\n",
              "</table>\n",
              "<p>984 rows × 6 columns</p>\n",
              "</div>"
            ],
            "text/plain": [
              "          data     curs  price  weekday  month  year\n",
              "0   2017-03-01  57.9627  55.72        2      3  2017\n",
              "1   2017-03-02  58.3776  54.16        3      3  2017\n",
              "2   2017-03-03  58.4067  54.12        4      3  2017\n",
              "3   2017-03-04  58.9099  54.12        5      3  2017\n",
              "4   2017-03-07  58.3370  54.61        1      3  2017\n",
              "..         ...      ...    ...      ...    ...   ...\n",
              "979 2021-02-20  73.9717  62.84        5      2  2021\n",
              "980 2021-02-21  73.9833  62.84        6      2  2021\n",
              "981 2021-02-25  73.7532  66.69        3      2  2021\n",
              "982 2021-02-26  73.4747  65.86        4      2  2021\n",
              "983 2021-02-27  74.4373  65.86        5      2  2021\n",
              "\n",
              "[984 rows x 6 columns]"
            ]
          },
          "metadata": {
            "tags": []
          },
          "execution_count": 18
        }
      ]
    },
    {
      "cell_type": "code",
      "metadata": {
        "id": "Zsr49QlLwUc3"
      },
      "source": [
        "past_days = 7\n",
        "\n",
        "for day in range(past_days):\n",
        "  d = day+1\n",
        "  df[f\"curs_back_{d}d\"] = df[\"curs\"].shift(d)\n",
        "  df[f\"oil_back_{d}d\"] = df[\"price\"].shift(d)"
      ],
      "execution_count": null,
      "outputs": []
    },
    {
      "cell_type": "code",
      "metadata": {
        "colab": {
          "base_uri": "https://localhost:8080/",
          "height": 609
        },
        "id": "-mVRqkbjwjyL",
        "outputId": "78fb5d93-e4a6-4b0e-e91b-1293b40933bb"
      },
      "source": [
        "df"
      ],
      "execution_count": null,
      "outputs": [
        {
          "output_type": "execute_result",
          "data": {
            "text/html": [
              "<div>\n",
              "<style scoped>\n",
              "    .dataframe tbody tr th:only-of-type {\n",
              "        vertical-align: middle;\n",
              "    }\n",
              "\n",
              "    .dataframe tbody tr th {\n",
              "        vertical-align: top;\n",
              "    }\n",
              "\n",
              "    .dataframe thead th {\n",
              "        text-align: right;\n",
              "    }\n",
              "</style>\n",
              "<table border=\"1\" class=\"dataframe\">\n",
              "  <thead>\n",
              "    <tr style=\"text-align: right;\">\n",
              "      <th></th>\n",
              "      <th>data</th>\n",
              "      <th>curs</th>\n",
              "      <th>price</th>\n",
              "      <th>weekday</th>\n",
              "      <th>month</th>\n",
              "      <th>year</th>\n",
              "      <th>curs_back_1d</th>\n",
              "      <th>oil_back_1d</th>\n",
              "      <th>curs_back_2d</th>\n",
              "      <th>oil_back_2d</th>\n",
              "      <th>curs_back_3d</th>\n",
              "      <th>oil_back_3d</th>\n",
              "      <th>curs_back_4d</th>\n",
              "      <th>oil_back_4d</th>\n",
              "      <th>curs_back_5d</th>\n",
              "      <th>oil_back_5d</th>\n",
              "      <th>curs_back_6d</th>\n",
              "      <th>oil_back_6d</th>\n",
              "      <th>curs_back_7d</th>\n",
              "      <th>oil_back_7d</th>\n",
              "    </tr>\n",
              "  </thead>\n",
              "  <tbody>\n",
              "    <tr>\n",
              "      <th>0</th>\n",
              "      <td>2017-03-01</td>\n",
              "      <td>57.9627</td>\n",
              "      <td>55.72</td>\n",
              "      <td>2</td>\n",
              "      <td>3</td>\n",
              "      <td>2017</td>\n",
              "      <td>NaN</td>\n",
              "      <td>NaN</td>\n",
              "      <td>NaN</td>\n",
              "      <td>NaN</td>\n",
              "      <td>NaN</td>\n",
              "      <td>NaN</td>\n",
              "      <td>NaN</td>\n",
              "      <td>NaN</td>\n",
              "      <td>NaN</td>\n",
              "      <td>NaN</td>\n",
              "      <td>NaN</td>\n",
              "      <td>NaN</td>\n",
              "      <td>NaN</td>\n",
              "      <td>NaN</td>\n",
              "    </tr>\n",
              "    <tr>\n",
              "      <th>1</th>\n",
              "      <td>2017-03-02</td>\n",
              "      <td>58.3776</td>\n",
              "      <td>54.16</td>\n",
              "      <td>3</td>\n",
              "      <td>3</td>\n",
              "      <td>2017</td>\n",
              "      <td>57.9627</td>\n",
              "      <td>55.72</td>\n",
              "      <td>NaN</td>\n",
              "      <td>NaN</td>\n",
              "      <td>NaN</td>\n",
              "      <td>NaN</td>\n",
              "      <td>NaN</td>\n",
              "      <td>NaN</td>\n",
              "      <td>NaN</td>\n",
              "      <td>NaN</td>\n",
              "      <td>NaN</td>\n",
              "      <td>NaN</td>\n",
              "      <td>NaN</td>\n",
              "      <td>NaN</td>\n",
              "    </tr>\n",
              "    <tr>\n",
              "      <th>2</th>\n",
              "      <td>2017-03-03</td>\n",
              "      <td>58.4067</td>\n",
              "      <td>54.12</td>\n",
              "      <td>4</td>\n",
              "      <td>3</td>\n",
              "      <td>2017</td>\n",
              "      <td>58.3776</td>\n",
              "      <td>54.16</td>\n",
              "      <td>57.9627</td>\n",
              "      <td>55.72</td>\n",
              "      <td>NaN</td>\n",
              "      <td>NaN</td>\n",
              "      <td>NaN</td>\n",
              "      <td>NaN</td>\n",
              "      <td>NaN</td>\n",
              "      <td>NaN</td>\n",
              "      <td>NaN</td>\n",
              "      <td>NaN</td>\n",
              "      <td>NaN</td>\n",
              "      <td>NaN</td>\n",
              "    </tr>\n",
              "    <tr>\n",
              "      <th>3</th>\n",
              "      <td>2017-03-04</td>\n",
              "      <td>58.9099</td>\n",
              "      <td>54.12</td>\n",
              "      <td>5</td>\n",
              "      <td>3</td>\n",
              "      <td>2017</td>\n",
              "      <td>58.4067</td>\n",
              "      <td>54.12</td>\n",
              "      <td>58.3776</td>\n",
              "      <td>54.16</td>\n",
              "      <td>57.9627</td>\n",
              "      <td>55.72</td>\n",
              "      <td>NaN</td>\n",
              "      <td>NaN</td>\n",
              "      <td>NaN</td>\n",
              "      <td>NaN</td>\n",
              "      <td>NaN</td>\n",
              "      <td>NaN</td>\n",
              "      <td>NaN</td>\n",
              "      <td>NaN</td>\n",
              "    </tr>\n",
              "    <tr>\n",
              "      <th>4</th>\n",
              "      <td>2017-03-07</td>\n",
              "      <td>58.3370</td>\n",
              "      <td>54.61</td>\n",
              "      <td>1</td>\n",
              "      <td>3</td>\n",
              "      <td>2017</td>\n",
              "      <td>58.9099</td>\n",
              "      <td>54.12</td>\n",
              "      <td>58.4067</td>\n",
              "      <td>54.12</td>\n",
              "      <td>58.3776</td>\n",
              "      <td>54.16</td>\n",
              "      <td>57.9627</td>\n",
              "      <td>55.72</td>\n",
              "      <td>NaN</td>\n",
              "      <td>NaN</td>\n",
              "      <td>NaN</td>\n",
              "      <td>NaN</td>\n",
              "      <td>NaN</td>\n",
              "      <td>NaN</td>\n",
              "    </tr>\n",
              "    <tr>\n",
              "      <th>...</th>\n",
              "      <td>...</td>\n",
              "      <td>...</td>\n",
              "      <td>...</td>\n",
              "      <td>...</td>\n",
              "      <td>...</td>\n",
              "      <td>...</td>\n",
              "      <td>...</td>\n",
              "      <td>...</td>\n",
              "      <td>...</td>\n",
              "      <td>...</td>\n",
              "      <td>...</td>\n",
              "      <td>...</td>\n",
              "      <td>...</td>\n",
              "      <td>...</td>\n",
              "      <td>...</td>\n",
              "      <td>...</td>\n",
              "      <td>...</td>\n",
              "      <td>...</td>\n",
              "      <td>...</td>\n",
              "      <td>...</td>\n",
              "    </tr>\n",
              "    <tr>\n",
              "      <th>979</th>\n",
              "      <td>2021-02-20</td>\n",
              "      <td>73.9717</td>\n",
              "      <td>62.84</td>\n",
              "      <td>5</td>\n",
              "      <td>2</td>\n",
              "      <td>2021</td>\n",
              "      <td>73.7755</td>\n",
              "      <td>62.84</td>\n",
              "      <td>73.7669</td>\n",
              "      <td>64.09</td>\n",
              "      <td>73.2895</td>\n",
              "      <td>65.02</td>\n",
              "      <td>73.3092</td>\n",
              "      <td>63.96</td>\n",
              "      <td>73.9378</td>\n",
              "      <td>62.47</td>\n",
              "      <td>73.7579</td>\n",
              "      <td>62.47</td>\n",
              "      <td>73.8526</td>\n",
              "      <td>61.09</td>\n",
              "    </tr>\n",
              "    <tr>\n",
              "      <th>980</th>\n",
              "      <td>2021-02-21</td>\n",
              "      <td>73.9833</td>\n",
              "      <td>62.84</td>\n",
              "      <td>6</td>\n",
              "      <td>2</td>\n",
              "      <td>2021</td>\n",
              "      <td>73.9717</td>\n",
              "      <td>62.84</td>\n",
              "      <td>73.7755</td>\n",
              "      <td>62.84</td>\n",
              "      <td>73.7669</td>\n",
              "      <td>64.09</td>\n",
              "      <td>73.2895</td>\n",
              "      <td>65.02</td>\n",
              "      <td>73.3092</td>\n",
              "      <td>63.96</td>\n",
              "      <td>73.9378</td>\n",
              "      <td>62.47</td>\n",
              "      <td>73.7579</td>\n",
              "      <td>62.47</td>\n",
              "    </tr>\n",
              "    <tr>\n",
              "      <th>981</th>\n",
              "      <td>2021-02-25</td>\n",
              "      <td>73.7532</td>\n",
              "      <td>66.69</td>\n",
              "      <td>3</td>\n",
              "      <td>2</td>\n",
              "      <td>2021</td>\n",
              "      <td>73.9833</td>\n",
              "      <td>62.84</td>\n",
              "      <td>73.9717</td>\n",
              "      <td>62.84</td>\n",
              "      <td>73.7755</td>\n",
              "      <td>62.84</td>\n",
              "      <td>73.7669</td>\n",
              "      <td>64.09</td>\n",
              "      <td>73.2895</td>\n",
              "      <td>65.02</td>\n",
              "      <td>73.3092</td>\n",
              "      <td>63.96</td>\n",
              "      <td>73.9378</td>\n",
              "      <td>62.47</td>\n",
              "    </tr>\n",
              "    <tr>\n",
              "      <th>982</th>\n",
              "      <td>2021-02-26</td>\n",
              "      <td>73.4747</td>\n",
              "      <td>65.86</td>\n",
              "      <td>4</td>\n",
              "      <td>2</td>\n",
              "      <td>2021</td>\n",
              "      <td>73.7532</td>\n",
              "      <td>66.69</td>\n",
              "      <td>73.9833</td>\n",
              "      <td>62.84</td>\n",
              "      <td>73.9717</td>\n",
              "      <td>62.84</td>\n",
              "      <td>73.7755</td>\n",
              "      <td>62.84</td>\n",
              "      <td>73.7669</td>\n",
              "      <td>64.09</td>\n",
              "      <td>73.2895</td>\n",
              "      <td>65.02</td>\n",
              "      <td>73.3092</td>\n",
              "      <td>63.96</td>\n",
              "    </tr>\n",
              "    <tr>\n",
              "      <th>983</th>\n",
              "      <td>2021-02-27</td>\n",
              "      <td>74.4373</td>\n",
              "      <td>65.86</td>\n",
              "      <td>5</td>\n",
              "      <td>2</td>\n",
              "      <td>2021</td>\n",
              "      <td>73.4747</td>\n",
              "      <td>65.86</td>\n",
              "      <td>73.7532</td>\n",
              "      <td>66.69</td>\n",
              "      <td>73.9833</td>\n",
              "      <td>62.84</td>\n",
              "      <td>73.9717</td>\n",
              "      <td>62.84</td>\n",
              "      <td>73.7755</td>\n",
              "      <td>62.84</td>\n",
              "      <td>73.7669</td>\n",
              "      <td>64.09</td>\n",
              "      <td>73.2895</td>\n",
              "      <td>65.02</td>\n",
              "    </tr>\n",
              "  </tbody>\n",
              "</table>\n",
              "<p>984 rows × 20 columns</p>\n",
              "</div>"
            ],
            "text/plain": [
              "          data     curs  price  ...  oil_back_6d  curs_back_7d  oil_back_7d\n",
              "0   2017-03-01  57.9627  55.72  ...          NaN           NaN          NaN\n",
              "1   2017-03-02  58.3776  54.16  ...          NaN           NaN          NaN\n",
              "2   2017-03-03  58.4067  54.12  ...          NaN           NaN          NaN\n",
              "3   2017-03-04  58.9099  54.12  ...          NaN           NaN          NaN\n",
              "4   2017-03-07  58.3370  54.61  ...          NaN           NaN          NaN\n",
              "..         ...      ...    ...  ...          ...           ...          ...\n",
              "979 2021-02-20  73.9717  62.84  ...        62.47       73.8526        61.09\n",
              "980 2021-02-21  73.9833  62.84  ...        62.47       73.7579        62.47\n",
              "981 2021-02-25  73.7532  66.69  ...        63.96       73.9378        62.47\n",
              "982 2021-02-26  73.4747  65.86  ...        65.02       73.3092        63.96\n",
              "983 2021-02-27  74.4373  65.86  ...        64.09       73.2895        65.02\n",
              "\n",
              "[984 rows x 20 columns]"
            ]
          },
          "metadata": {
            "tags": []
          },
          "execution_count": 20
        }
      ]
    },
    {
      "cell_type": "code",
      "metadata": {
        "id": "iktkXAoaxfQU"
      },
      "source": [
        ""
      ],
      "execution_count": null,
      "outputs": []
    },
    {
      "cell_type": "code",
      "metadata": {
        "id": "fU49N6vV3ABs"
      },
      "source": [
        "df[\"usd_8d\"] = df[\"curs\"].shift(1).rolling(window=8).median()\n",
        "df[\"oil_42d\"] = df[\"price\"].shift(1).rolling(window=42).mean()"
      ],
      "execution_count": null,
      "outputs": []
    },
    {
      "cell_type": "code",
      "metadata": {
        "id": "io67kocy3Bu_"
      },
      "source": [
        "df.dropna(inplace=True)"
      ],
      "execution_count": null,
      "outputs": []
    },
    {
      "cell_type": "code",
      "metadata": {
        "colab": {
          "base_uri": "https://localhost:8080/",
          "height": 609
        },
        "id": "_bLPkAaq32sK",
        "outputId": "91a081e0-d5c1-4495-b5c4-e0afebe83746"
      },
      "source": [
        "df"
      ],
      "execution_count": null,
      "outputs": [
        {
          "output_type": "execute_result",
          "data": {
            "text/html": [
              "<div>\n",
              "<style scoped>\n",
              "    .dataframe tbody tr th:only-of-type {\n",
              "        vertical-align: middle;\n",
              "    }\n",
              "\n",
              "    .dataframe tbody tr th {\n",
              "        vertical-align: top;\n",
              "    }\n",
              "\n",
              "    .dataframe thead th {\n",
              "        text-align: right;\n",
              "    }\n",
              "</style>\n",
              "<table border=\"1\" class=\"dataframe\">\n",
              "  <thead>\n",
              "    <tr style=\"text-align: right;\">\n",
              "      <th></th>\n",
              "      <th>data</th>\n",
              "      <th>curs</th>\n",
              "      <th>price</th>\n",
              "      <th>weekday</th>\n",
              "      <th>month</th>\n",
              "      <th>year</th>\n",
              "      <th>curs_back_1d</th>\n",
              "      <th>oil_back_1d</th>\n",
              "      <th>curs_back_2d</th>\n",
              "      <th>oil_back_2d</th>\n",
              "      <th>curs_back_3d</th>\n",
              "      <th>oil_back_3d</th>\n",
              "      <th>curs_back_4d</th>\n",
              "      <th>oil_back_4d</th>\n",
              "      <th>curs_back_5d</th>\n",
              "      <th>oil_back_5d</th>\n",
              "      <th>curs_back_6d</th>\n",
              "      <th>oil_back_6d</th>\n",
              "      <th>curs_back_7d</th>\n",
              "      <th>oil_back_7d</th>\n",
              "      <th>usd_8d</th>\n",
              "      <th>oil_42d</th>\n",
              "    </tr>\n",
              "  </thead>\n",
              "  <tbody>\n",
              "    <tr>\n",
              "      <th>42</th>\n",
              "      <td>2017-04-29</td>\n",
              "      <td>56.9838</td>\n",
              "      <td>49.46</td>\n",
              "      <td>5</td>\n",
              "      <td>4</td>\n",
              "      <td>2017</td>\n",
              "      <td>56.9707</td>\n",
              "      <td>49.46</td>\n",
              "      <td>56.3131</td>\n",
              "      <td>49.46</td>\n",
              "      <td>55.8453</td>\n",
              "      <td>49.99</td>\n",
              "      <td>56.0794</td>\n",
              "      <td>49.37</td>\n",
              "      <td>56.2307</td>\n",
              "      <td>49.93</td>\n",
              "      <td>56.4165</td>\n",
              "      <td>49.93</td>\n",
              "      <td>56.1753</td>\n",
              "      <td>50.66</td>\n",
              "      <td>56.20300</td>\n",
              "      <td>52.019762</td>\n",
              "    </tr>\n",
              "    <tr>\n",
              "      <th>43</th>\n",
              "      <td>2017-05-03</td>\n",
              "      <td>56.9518</td>\n",
              "      <td>48.82</td>\n",
              "      <td>2</td>\n",
              "      <td>5</td>\n",
              "      <td>2017</td>\n",
              "      <td>56.9838</td>\n",
              "      <td>49.46</td>\n",
              "      <td>56.9707</td>\n",
              "      <td>49.46</td>\n",
              "      <td>56.3131</td>\n",
              "      <td>49.46</td>\n",
              "      <td>55.8453</td>\n",
              "      <td>49.99</td>\n",
              "      <td>56.0794</td>\n",
              "      <td>49.37</td>\n",
              "      <td>56.2307</td>\n",
              "      <td>49.93</td>\n",
              "      <td>56.4165</td>\n",
              "      <td>49.93</td>\n",
              "      <td>56.27190</td>\n",
              "      <td>51.870714</td>\n",
              "    </tr>\n",
              "    <tr>\n",
              "      <th>44</th>\n",
              "      <td>2017-05-04</td>\n",
              "      <td>57.0927</td>\n",
              "      <td>47.53</td>\n",
              "      <td>3</td>\n",
              "      <td>5</td>\n",
              "      <td>2017</td>\n",
              "      <td>56.9518</td>\n",
              "      <td>48.82</td>\n",
              "      <td>56.9838</td>\n",
              "      <td>49.46</td>\n",
              "      <td>56.9707</td>\n",
              "      <td>49.46</td>\n",
              "      <td>56.3131</td>\n",
              "      <td>49.46</td>\n",
              "      <td>55.8453</td>\n",
              "      <td>49.99</td>\n",
              "      <td>56.0794</td>\n",
              "      <td>49.37</td>\n",
              "      <td>56.2307</td>\n",
              "      <td>49.93</td>\n",
              "      <td>56.36480</td>\n",
              "      <td>51.743571</td>\n",
              "    </tr>\n",
              "    <tr>\n",
              "      <th>45</th>\n",
              "      <td>2017-05-05</td>\n",
              "      <td>57.5714</td>\n",
              "      <td>47.45</td>\n",
              "      <td>4</td>\n",
              "      <td>5</td>\n",
              "      <td>2017</td>\n",
              "      <td>57.0927</td>\n",
              "      <td>47.53</td>\n",
              "      <td>56.9518</td>\n",
              "      <td>48.82</td>\n",
              "      <td>56.9838</td>\n",
              "      <td>49.46</td>\n",
              "      <td>56.9707</td>\n",
              "      <td>49.46</td>\n",
              "      <td>56.3131</td>\n",
              "      <td>49.46</td>\n",
              "      <td>55.8453</td>\n",
              "      <td>49.99</td>\n",
              "      <td>56.0794</td>\n",
              "      <td>49.37</td>\n",
              "      <td>56.63245</td>\n",
              "      <td>51.586667</td>\n",
              "    </tr>\n",
              "    <tr>\n",
              "      <th>46</th>\n",
              "      <td>2017-05-06</td>\n",
              "      <td>58.5382</td>\n",
              "      <td>47.45</td>\n",
              "      <td>5</td>\n",
              "      <td>5</td>\n",
              "      <td>2017</td>\n",
              "      <td>57.5714</td>\n",
              "      <td>47.45</td>\n",
              "      <td>57.0927</td>\n",
              "      <td>47.53</td>\n",
              "      <td>56.9518</td>\n",
              "      <td>48.82</td>\n",
              "      <td>56.9838</td>\n",
              "      <td>49.46</td>\n",
              "      <td>56.9707</td>\n",
              "      <td>49.46</td>\n",
              "      <td>56.3131</td>\n",
              "      <td>49.46</td>\n",
              "      <td>55.8453</td>\n",
              "      <td>49.99</td>\n",
              "      <td>56.96125</td>\n",
              "      <td>51.427857</td>\n",
              "    </tr>\n",
              "    <tr>\n",
              "      <th>...</th>\n",
              "      <td>...</td>\n",
              "      <td>...</td>\n",
              "      <td>...</td>\n",
              "      <td>...</td>\n",
              "      <td>...</td>\n",
              "      <td>...</td>\n",
              "      <td>...</td>\n",
              "      <td>...</td>\n",
              "      <td>...</td>\n",
              "      <td>...</td>\n",
              "      <td>...</td>\n",
              "      <td>...</td>\n",
              "      <td>...</td>\n",
              "      <td>...</td>\n",
              "      <td>...</td>\n",
              "      <td>...</td>\n",
              "      <td>...</td>\n",
              "      <td>...</td>\n",
              "      <td>...</td>\n",
              "      <td>...</td>\n",
              "      <td>...</td>\n",
              "      <td>...</td>\n",
              "    </tr>\n",
              "    <tr>\n",
              "      <th>979</th>\n",
              "      <td>2021-02-20</td>\n",
              "      <td>73.9717</td>\n",
              "      <td>62.84</td>\n",
              "      <td>5</td>\n",
              "      <td>2</td>\n",
              "      <td>2021</td>\n",
              "      <td>73.7755</td>\n",
              "      <td>62.84</td>\n",
              "      <td>73.7669</td>\n",
              "      <td>64.09</td>\n",
              "      <td>73.2895</td>\n",
              "      <td>65.02</td>\n",
              "      <td>73.3092</td>\n",
              "      <td>63.96</td>\n",
              "      <td>73.9378</td>\n",
              "      <td>62.47</td>\n",
              "      <td>73.7579</td>\n",
              "      <td>62.47</td>\n",
              "      <td>73.8526</td>\n",
              "      <td>61.09</td>\n",
              "      <td>73.77120</td>\n",
              "      <td>55.983333</td>\n",
              "    </tr>\n",
              "    <tr>\n",
              "      <th>980</th>\n",
              "      <td>2021-02-21</td>\n",
              "      <td>73.9833</td>\n",
              "      <td>62.84</td>\n",
              "      <td>6</td>\n",
              "      <td>2</td>\n",
              "      <td>2021</td>\n",
              "      <td>73.9717</td>\n",
              "      <td>62.84</td>\n",
              "      <td>73.7755</td>\n",
              "      <td>62.84</td>\n",
              "      <td>73.7669</td>\n",
              "      <td>64.09</td>\n",
              "      <td>73.2895</td>\n",
              "      <td>65.02</td>\n",
              "      <td>73.3092</td>\n",
              "      <td>63.96</td>\n",
              "      <td>73.9378</td>\n",
              "      <td>62.47</td>\n",
              "      <td>73.7579</td>\n",
              "      <td>62.47</td>\n",
              "      <td>73.77120</td>\n",
              "      <td>56.269286</td>\n",
              "    </tr>\n",
              "    <tr>\n",
              "      <th>981</th>\n",
              "      <td>2021-02-25</td>\n",
              "      <td>73.7532</td>\n",
              "      <td>66.69</td>\n",
              "      <td>3</td>\n",
              "      <td>2</td>\n",
              "      <td>2021</td>\n",
              "      <td>73.9833</td>\n",
              "      <td>62.84</td>\n",
              "      <td>73.9717</td>\n",
              "      <td>62.84</td>\n",
              "      <td>73.7755</td>\n",
              "      <td>62.84</td>\n",
              "      <td>73.7669</td>\n",
              "      <td>64.09</td>\n",
              "      <td>73.2895</td>\n",
              "      <td>65.02</td>\n",
              "      <td>73.3092</td>\n",
              "      <td>63.96</td>\n",
              "      <td>73.9378</td>\n",
              "      <td>62.47</td>\n",
              "      <td>73.77120</td>\n",
              "      <td>56.546429</td>\n",
              "    </tr>\n",
              "    <tr>\n",
              "      <th>982</th>\n",
              "      <td>2021-02-26</td>\n",
              "      <td>73.4747</td>\n",
              "      <td>65.86</td>\n",
              "      <td>4</td>\n",
              "      <td>2</td>\n",
              "      <td>2021</td>\n",
              "      <td>73.7532</td>\n",
              "      <td>66.69</td>\n",
              "      <td>73.9833</td>\n",
              "      <td>62.84</td>\n",
              "      <td>73.9717</td>\n",
              "      <td>62.84</td>\n",
              "      <td>73.7755</td>\n",
              "      <td>62.84</td>\n",
              "      <td>73.7669</td>\n",
              "      <td>64.09</td>\n",
              "      <td>73.2895</td>\n",
              "      <td>65.02</td>\n",
              "      <td>73.3092</td>\n",
              "      <td>63.96</td>\n",
              "      <td>73.77120</td>\n",
              "      <td>56.892143</td>\n",
              "    </tr>\n",
              "    <tr>\n",
              "      <th>983</th>\n",
              "      <td>2021-02-27</td>\n",
              "      <td>74.4373</td>\n",
              "      <td>65.86</td>\n",
              "      <td>5</td>\n",
              "      <td>2</td>\n",
              "      <td>2021</td>\n",
              "      <td>73.4747</td>\n",
              "      <td>65.86</td>\n",
              "      <td>73.7532</td>\n",
              "      <td>66.69</td>\n",
              "      <td>73.9833</td>\n",
              "      <td>62.84</td>\n",
              "      <td>73.9717</td>\n",
              "      <td>62.84</td>\n",
              "      <td>73.7755</td>\n",
              "      <td>62.84</td>\n",
              "      <td>73.7669</td>\n",
              "      <td>64.09</td>\n",
              "      <td>73.2895</td>\n",
              "      <td>65.02</td>\n",
              "      <td>73.76005</td>\n",
              "      <td>57.218095</td>\n",
              "    </tr>\n",
              "  </tbody>\n",
              "</table>\n",
              "<p>942 rows × 22 columns</p>\n",
              "</div>"
            ],
            "text/plain": [
              "          data     curs  price  ...  oil_back_7d    usd_8d    oil_42d\n",
              "42  2017-04-29  56.9838  49.46  ...        50.66  56.20300  52.019762\n",
              "43  2017-05-03  56.9518  48.82  ...        49.93  56.27190  51.870714\n",
              "44  2017-05-04  57.0927  47.53  ...        49.93  56.36480  51.743571\n",
              "45  2017-05-05  57.5714  47.45  ...        49.37  56.63245  51.586667\n",
              "46  2017-05-06  58.5382  47.45  ...        49.99  56.96125  51.427857\n",
              "..         ...      ...    ...  ...          ...       ...        ...\n",
              "979 2021-02-20  73.9717  62.84  ...        61.09  73.77120  55.983333\n",
              "980 2021-02-21  73.9833  62.84  ...        62.47  73.77120  56.269286\n",
              "981 2021-02-25  73.7532  66.69  ...        62.47  73.77120  56.546429\n",
              "982 2021-02-26  73.4747  65.86  ...        63.96  73.77120  56.892143\n",
              "983 2021-02-27  74.4373  65.86  ...        65.02  73.76005  57.218095\n",
              "\n",
              "[942 rows x 22 columns]"
            ]
          },
          "metadata": {
            "tags": []
          },
          "execution_count": 23
        }
      ]
    },
    {
      "cell_type": "code",
      "metadata": {
        "id": "cgSzyKXm39bi"
      },
      "source": [
        "df = pd.get_dummies(df, columns=[\"year\", \"month\", \"weekday\"])\n",
        "df.drop([\"data\", \"price\"], axis=1, inplace=True)"
      ],
      "execution_count": null,
      "outputs": []
    },
    {
      "cell_type": "code",
      "metadata": {
        "colab": {
          "base_uri": "https://localhost:8080/",
          "height": 439
        },
        "id": "rGw90oin4XQF",
        "outputId": "8c08d30f-866b-4ce0-afa0-6aa26fdb52fd"
      },
      "source": [
        "df"
      ],
      "execution_count": null,
      "outputs": [
        {
          "output_type": "execute_result",
          "data": {
            "text/html": [
              "<div>\n",
              "<style scoped>\n",
              "    .dataframe tbody tr th:only-of-type {\n",
              "        vertical-align: middle;\n",
              "    }\n",
              "\n",
              "    .dataframe tbody tr th {\n",
              "        vertical-align: top;\n",
              "    }\n",
              "\n",
              "    .dataframe thead th {\n",
              "        text-align: right;\n",
              "    }\n",
              "</style>\n",
              "<table border=\"1\" class=\"dataframe\">\n",
              "  <thead>\n",
              "    <tr style=\"text-align: right;\">\n",
              "      <th></th>\n",
              "      <th>curs</th>\n",
              "      <th>curs_back_1d</th>\n",
              "      <th>oil_back_1d</th>\n",
              "      <th>curs_back_2d</th>\n",
              "      <th>oil_back_2d</th>\n",
              "      <th>curs_back_3d</th>\n",
              "      <th>oil_back_3d</th>\n",
              "      <th>curs_back_4d</th>\n",
              "      <th>oil_back_4d</th>\n",
              "      <th>curs_back_5d</th>\n",
              "      <th>oil_back_5d</th>\n",
              "      <th>curs_back_6d</th>\n",
              "      <th>oil_back_6d</th>\n",
              "      <th>curs_back_7d</th>\n",
              "      <th>oil_back_7d</th>\n",
              "      <th>usd_8d</th>\n",
              "      <th>oil_42d</th>\n",
              "      <th>year_2017</th>\n",
              "      <th>year_2018</th>\n",
              "      <th>year_2019</th>\n",
              "      <th>year_2020</th>\n",
              "      <th>year_2021</th>\n",
              "      <th>month_1</th>\n",
              "      <th>month_2</th>\n",
              "      <th>month_3</th>\n",
              "      <th>month_4</th>\n",
              "      <th>month_5</th>\n",
              "      <th>month_6</th>\n",
              "      <th>month_7</th>\n",
              "      <th>month_8</th>\n",
              "      <th>month_9</th>\n",
              "      <th>month_10</th>\n",
              "      <th>month_11</th>\n",
              "      <th>month_12</th>\n",
              "      <th>weekday_1</th>\n",
              "      <th>weekday_2</th>\n",
              "      <th>weekday_3</th>\n",
              "      <th>weekday_4</th>\n",
              "      <th>weekday_5</th>\n",
              "      <th>weekday_6</th>\n",
              "    </tr>\n",
              "  </thead>\n",
              "  <tbody>\n",
              "    <tr>\n",
              "      <th>42</th>\n",
              "      <td>56.9838</td>\n",
              "      <td>56.9707</td>\n",
              "      <td>49.46</td>\n",
              "      <td>56.3131</td>\n",
              "      <td>49.46</td>\n",
              "      <td>55.8453</td>\n",
              "      <td>49.99</td>\n",
              "      <td>56.0794</td>\n",
              "      <td>49.37</td>\n",
              "      <td>56.2307</td>\n",
              "      <td>49.93</td>\n",
              "      <td>56.4165</td>\n",
              "      <td>49.93</td>\n",
              "      <td>56.1753</td>\n",
              "      <td>50.66</td>\n",
              "      <td>56.20300</td>\n",
              "      <td>52.019762</td>\n",
              "      <td>1</td>\n",
              "      <td>0</td>\n",
              "      <td>0</td>\n",
              "      <td>0</td>\n",
              "      <td>0</td>\n",
              "      <td>0</td>\n",
              "      <td>0</td>\n",
              "      <td>0</td>\n",
              "      <td>1</td>\n",
              "      <td>0</td>\n",
              "      <td>0</td>\n",
              "      <td>0</td>\n",
              "      <td>0</td>\n",
              "      <td>0</td>\n",
              "      <td>0</td>\n",
              "      <td>0</td>\n",
              "      <td>0</td>\n",
              "      <td>0</td>\n",
              "      <td>0</td>\n",
              "      <td>0</td>\n",
              "      <td>0</td>\n",
              "      <td>1</td>\n",
              "      <td>0</td>\n",
              "    </tr>\n",
              "    <tr>\n",
              "      <th>43</th>\n",
              "      <td>56.9518</td>\n",
              "      <td>56.9838</td>\n",
              "      <td>49.46</td>\n",
              "      <td>56.9707</td>\n",
              "      <td>49.46</td>\n",
              "      <td>56.3131</td>\n",
              "      <td>49.46</td>\n",
              "      <td>55.8453</td>\n",
              "      <td>49.99</td>\n",
              "      <td>56.0794</td>\n",
              "      <td>49.37</td>\n",
              "      <td>56.2307</td>\n",
              "      <td>49.93</td>\n",
              "      <td>56.4165</td>\n",
              "      <td>49.93</td>\n",
              "      <td>56.27190</td>\n",
              "      <td>51.870714</td>\n",
              "      <td>1</td>\n",
              "      <td>0</td>\n",
              "      <td>0</td>\n",
              "      <td>0</td>\n",
              "      <td>0</td>\n",
              "      <td>0</td>\n",
              "      <td>0</td>\n",
              "      <td>0</td>\n",
              "      <td>0</td>\n",
              "      <td>1</td>\n",
              "      <td>0</td>\n",
              "      <td>0</td>\n",
              "      <td>0</td>\n",
              "      <td>0</td>\n",
              "      <td>0</td>\n",
              "      <td>0</td>\n",
              "      <td>0</td>\n",
              "      <td>0</td>\n",
              "      <td>1</td>\n",
              "      <td>0</td>\n",
              "      <td>0</td>\n",
              "      <td>0</td>\n",
              "      <td>0</td>\n",
              "    </tr>\n",
              "    <tr>\n",
              "      <th>44</th>\n",
              "      <td>57.0927</td>\n",
              "      <td>56.9518</td>\n",
              "      <td>48.82</td>\n",
              "      <td>56.9838</td>\n",
              "      <td>49.46</td>\n",
              "      <td>56.9707</td>\n",
              "      <td>49.46</td>\n",
              "      <td>56.3131</td>\n",
              "      <td>49.46</td>\n",
              "      <td>55.8453</td>\n",
              "      <td>49.99</td>\n",
              "      <td>56.0794</td>\n",
              "      <td>49.37</td>\n",
              "      <td>56.2307</td>\n",
              "      <td>49.93</td>\n",
              "      <td>56.36480</td>\n",
              "      <td>51.743571</td>\n",
              "      <td>1</td>\n",
              "      <td>0</td>\n",
              "      <td>0</td>\n",
              "      <td>0</td>\n",
              "      <td>0</td>\n",
              "      <td>0</td>\n",
              "      <td>0</td>\n",
              "      <td>0</td>\n",
              "      <td>0</td>\n",
              "      <td>1</td>\n",
              "      <td>0</td>\n",
              "      <td>0</td>\n",
              "      <td>0</td>\n",
              "      <td>0</td>\n",
              "      <td>0</td>\n",
              "      <td>0</td>\n",
              "      <td>0</td>\n",
              "      <td>0</td>\n",
              "      <td>0</td>\n",
              "      <td>1</td>\n",
              "      <td>0</td>\n",
              "      <td>0</td>\n",
              "      <td>0</td>\n",
              "    </tr>\n",
              "    <tr>\n",
              "      <th>45</th>\n",
              "      <td>57.5714</td>\n",
              "      <td>57.0927</td>\n",
              "      <td>47.53</td>\n",
              "      <td>56.9518</td>\n",
              "      <td>48.82</td>\n",
              "      <td>56.9838</td>\n",
              "      <td>49.46</td>\n",
              "      <td>56.9707</td>\n",
              "      <td>49.46</td>\n",
              "      <td>56.3131</td>\n",
              "      <td>49.46</td>\n",
              "      <td>55.8453</td>\n",
              "      <td>49.99</td>\n",
              "      <td>56.0794</td>\n",
              "      <td>49.37</td>\n",
              "      <td>56.63245</td>\n",
              "      <td>51.586667</td>\n",
              "      <td>1</td>\n",
              "      <td>0</td>\n",
              "      <td>0</td>\n",
              "      <td>0</td>\n",
              "      <td>0</td>\n",
              "      <td>0</td>\n",
              "      <td>0</td>\n",
              "      <td>0</td>\n",
              "      <td>0</td>\n",
              "      <td>1</td>\n",
              "      <td>0</td>\n",
              "      <td>0</td>\n",
              "      <td>0</td>\n",
              "      <td>0</td>\n",
              "      <td>0</td>\n",
              "      <td>0</td>\n",
              "      <td>0</td>\n",
              "      <td>0</td>\n",
              "      <td>0</td>\n",
              "      <td>0</td>\n",
              "      <td>1</td>\n",
              "      <td>0</td>\n",
              "      <td>0</td>\n",
              "    </tr>\n",
              "    <tr>\n",
              "      <th>46</th>\n",
              "      <td>58.5382</td>\n",
              "      <td>57.5714</td>\n",
              "      <td>47.45</td>\n",
              "      <td>57.0927</td>\n",
              "      <td>47.53</td>\n",
              "      <td>56.9518</td>\n",
              "      <td>48.82</td>\n",
              "      <td>56.9838</td>\n",
              "      <td>49.46</td>\n",
              "      <td>56.9707</td>\n",
              "      <td>49.46</td>\n",
              "      <td>56.3131</td>\n",
              "      <td>49.46</td>\n",
              "      <td>55.8453</td>\n",
              "      <td>49.99</td>\n",
              "      <td>56.96125</td>\n",
              "      <td>51.427857</td>\n",
              "      <td>1</td>\n",
              "      <td>0</td>\n",
              "      <td>0</td>\n",
              "      <td>0</td>\n",
              "      <td>0</td>\n",
              "      <td>0</td>\n",
              "      <td>0</td>\n",
              "      <td>0</td>\n",
              "      <td>0</td>\n",
              "      <td>1</td>\n",
              "      <td>0</td>\n",
              "      <td>0</td>\n",
              "      <td>0</td>\n",
              "      <td>0</td>\n",
              "      <td>0</td>\n",
              "      <td>0</td>\n",
              "      <td>0</td>\n",
              "      <td>0</td>\n",
              "      <td>0</td>\n",
              "      <td>0</td>\n",
              "      <td>0</td>\n",
              "      <td>1</td>\n",
              "      <td>0</td>\n",
              "    </tr>\n",
              "    <tr>\n",
              "      <th>...</th>\n",
              "      <td>...</td>\n",
              "      <td>...</td>\n",
              "      <td>...</td>\n",
              "      <td>...</td>\n",
              "      <td>...</td>\n",
              "      <td>...</td>\n",
              "      <td>...</td>\n",
              "      <td>...</td>\n",
              "      <td>...</td>\n",
              "      <td>...</td>\n",
              "      <td>...</td>\n",
              "      <td>...</td>\n",
              "      <td>...</td>\n",
              "      <td>...</td>\n",
              "      <td>...</td>\n",
              "      <td>...</td>\n",
              "      <td>...</td>\n",
              "      <td>...</td>\n",
              "      <td>...</td>\n",
              "      <td>...</td>\n",
              "      <td>...</td>\n",
              "      <td>...</td>\n",
              "      <td>...</td>\n",
              "      <td>...</td>\n",
              "      <td>...</td>\n",
              "      <td>...</td>\n",
              "      <td>...</td>\n",
              "      <td>...</td>\n",
              "      <td>...</td>\n",
              "      <td>...</td>\n",
              "      <td>...</td>\n",
              "      <td>...</td>\n",
              "      <td>...</td>\n",
              "      <td>...</td>\n",
              "      <td>...</td>\n",
              "      <td>...</td>\n",
              "      <td>...</td>\n",
              "      <td>...</td>\n",
              "      <td>...</td>\n",
              "      <td>...</td>\n",
              "    </tr>\n",
              "    <tr>\n",
              "      <th>979</th>\n",
              "      <td>73.9717</td>\n",
              "      <td>73.7755</td>\n",
              "      <td>62.84</td>\n",
              "      <td>73.7669</td>\n",
              "      <td>64.09</td>\n",
              "      <td>73.2895</td>\n",
              "      <td>65.02</td>\n",
              "      <td>73.3092</td>\n",
              "      <td>63.96</td>\n",
              "      <td>73.9378</td>\n",
              "      <td>62.47</td>\n",
              "      <td>73.7579</td>\n",
              "      <td>62.47</td>\n",
              "      <td>73.8526</td>\n",
              "      <td>61.09</td>\n",
              "      <td>73.77120</td>\n",
              "      <td>55.983333</td>\n",
              "      <td>0</td>\n",
              "      <td>0</td>\n",
              "      <td>0</td>\n",
              "      <td>0</td>\n",
              "      <td>1</td>\n",
              "      <td>0</td>\n",
              "      <td>1</td>\n",
              "      <td>0</td>\n",
              "      <td>0</td>\n",
              "      <td>0</td>\n",
              "      <td>0</td>\n",
              "      <td>0</td>\n",
              "      <td>0</td>\n",
              "      <td>0</td>\n",
              "      <td>0</td>\n",
              "      <td>0</td>\n",
              "      <td>0</td>\n",
              "      <td>0</td>\n",
              "      <td>0</td>\n",
              "      <td>0</td>\n",
              "      <td>0</td>\n",
              "      <td>1</td>\n",
              "      <td>0</td>\n",
              "    </tr>\n",
              "    <tr>\n",
              "      <th>980</th>\n",
              "      <td>73.9833</td>\n",
              "      <td>73.9717</td>\n",
              "      <td>62.84</td>\n",
              "      <td>73.7755</td>\n",
              "      <td>62.84</td>\n",
              "      <td>73.7669</td>\n",
              "      <td>64.09</td>\n",
              "      <td>73.2895</td>\n",
              "      <td>65.02</td>\n",
              "      <td>73.3092</td>\n",
              "      <td>63.96</td>\n",
              "      <td>73.9378</td>\n",
              "      <td>62.47</td>\n",
              "      <td>73.7579</td>\n",
              "      <td>62.47</td>\n",
              "      <td>73.77120</td>\n",
              "      <td>56.269286</td>\n",
              "      <td>0</td>\n",
              "      <td>0</td>\n",
              "      <td>0</td>\n",
              "      <td>0</td>\n",
              "      <td>1</td>\n",
              "      <td>0</td>\n",
              "      <td>1</td>\n",
              "      <td>0</td>\n",
              "      <td>0</td>\n",
              "      <td>0</td>\n",
              "      <td>0</td>\n",
              "      <td>0</td>\n",
              "      <td>0</td>\n",
              "      <td>0</td>\n",
              "      <td>0</td>\n",
              "      <td>0</td>\n",
              "      <td>0</td>\n",
              "      <td>0</td>\n",
              "      <td>0</td>\n",
              "      <td>0</td>\n",
              "      <td>0</td>\n",
              "      <td>0</td>\n",
              "      <td>1</td>\n",
              "    </tr>\n",
              "    <tr>\n",
              "      <th>981</th>\n",
              "      <td>73.7532</td>\n",
              "      <td>73.9833</td>\n",
              "      <td>62.84</td>\n",
              "      <td>73.9717</td>\n",
              "      <td>62.84</td>\n",
              "      <td>73.7755</td>\n",
              "      <td>62.84</td>\n",
              "      <td>73.7669</td>\n",
              "      <td>64.09</td>\n",
              "      <td>73.2895</td>\n",
              "      <td>65.02</td>\n",
              "      <td>73.3092</td>\n",
              "      <td>63.96</td>\n",
              "      <td>73.9378</td>\n",
              "      <td>62.47</td>\n",
              "      <td>73.77120</td>\n",
              "      <td>56.546429</td>\n",
              "      <td>0</td>\n",
              "      <td>0</td>\n",
              "      <td>0</td>\n",
              "      <td>0</td>\n",
              "      <td>1</td>\n",
              "      <td>0</td>\n",
              "      <td>1</td>\n",
              "      <td>0</td>\n",
              "      <td>0</td>\n",
              "      <td>0</td>\n",
              "      <td>0</td>\n",
              "      <td>0</td>\n",
              "      <td>0</td>\n",
              "      <td>0</td>\n",
              "      <td>0</td>\n",
              "      <td>0</td>\n",
              "      <td>0</td>\n",
              "      <td>0</td>\n",
              "      <td>0</td>\n",
              "      <td>1</td>\n",
              "      <td>0</td>\n",
              "      <td>0</td>\n",
              "      <td>0</td>\n",
              "    </tr>\n",
              "    <tr>\n",
              "      <th>982</th>\n",
              "      <td>73.4747</td>\n",
              "      <td>73.7532</td>\n",
              "      <td>66.69</td>\n",
              "      <td>73.9833</td>\n",
              "      <td>62.84</td>\n",
              "      <td>73.9717</td>\n",
              "      <td>62.84</td>\n",
              "      <td>73.7755</td>\n",
              "      <td>62.84</td>\n",
              "      <td>73.7669</td>\n",
              "      <td>64.09</td>\n",
              "      <td>73.2895</td>\n",
              "      <td>65.02</td>\n",
              "      <td>73.3092</td>\n",
              "      <td>63.96</td>\n",
              "      <td>73.77120</td>\n",
              "      <td>56.892143</td>\n",
              "      <td>0</td>\n",
              "      <td>0</td>\n",
              "      <td>0</td>\n",
              "      <td>0</td>\n",
              "      <td>1</td>\n",
              "      <td>0</td>\n",
              "      <td>1</td>\n",
              "      <td>0</td>\n",
              "      <td>0</td>\n",
              "      <td>0</td>\n",
              "      <td>0</td>\n",
              "      <td>0</td>\n",
              "      <td>0</td>\n",
              "      <td>0</td>\n",
              "      <td>0</td>\n",
              "      <td>0</td>\n",
              "      <td>0</td>\n",
              "      <td>0</td>\n",
              "      <td>0</td>\n",
              "      <td>0</td>\n",
              "      <td>1</td>\n",
              "      <td>0</td>\n",
              "      <td>0</td>\n",
              "    </tr>\n",
              "    <tr>\n",
              "      <th>983</th>\n",
              "      <td>74.4373</td>\n",
              "      <td>73.4747</td>\n",
              "      <td>65.86</td>\n",
              "      <td>73.7532</td>\n",
              "      <td>66.69</td>\n",
              "      <td>73.9833</td>\n",
              "      <td>62.84</td>\n",
              "      <td>73.9717</td>\n",
              "      <td>62.84</td>\n",
              "      <td>73.7755</td>\n",
              "      <td>62.84</td>\n",
              "      <td>73.7669</td>\n",
              "      <td>64.09</td>\n",
              "      <td>73.2895</td>\n",
              "      <td>65.02</td>\n",
              "      <td>73.76005</td>\n",
              "      <td>57.218095</td>\n",
              "      <td>0</td>\n",
              "      <td>0</td>\n",
              "      <td>0</td>\n",
              "      <td>0</td>\n",
              "      <td>1</td>\n",
              "      <td>0</td>\n",
              "      <td>1</td>\n",
              "      <td>0</td>\n",
              "      <td>0</td>\n",
              "      <td>0</td>\n",
              "      <td>0</td>\n",
              "      <td>0</td>\n",
              "      <td>0</td>\n",
              "      <td>0</td>\n",
              "      <td>0</td>\n",
              "      <td>0</td>\n",
              "      <td>0</td>\n",
              "      <td>0</td>\n",
              "      <td>0</td>\n",
              "      <td>0</td>\n",
              "      <td>0</td>\n",
              "      <td>1</td>\n",
              "      <td>0</td>\n",
              "    </tr>\n",
              "  </tbody>\n",
              "</table>\n",
              "<p>942 rows × 40 columns</p>\n",
              "</div>"
            ],
            "text/plain": [
              "        curs  curs_back_1d  oil_back_1d  ...  weekday_4  weekday_5  weekday_6\n",
              "42   56.9838       56.9707        49.46  ...          0          1          0\n",
              "43   56.9518       56.9838        49.46  ...          0          0          0\n",
              "44   57.0927       56.9518        48.82  ...          0          0          0\n",
              "45   57.5714       57.0927        47.53  ...          1          0          0\n",
              "46   58.5382       57.5714        47.45  ...          0          1          0\n",
              "..       ...           ...          ...  ...        ...        ...        ...\n",
              "979  73.9717       73.7755        62.84  ...          0          1          0\n",
              "980  73.9833       73.9717        62.84  ...          0          0          1\n",
              "981  73.7532       73.9833        62.84  ...          0          0          0\n",
              "982  73.4747       73.7532        66.69  ...          1          0          0\n",
              "983  74.4373       73.4747        65.86  ...          0          1          0\n",
              "\n",
              "[942 rows x 40 columns]"
            ]
          },
          "metadata": {
            "tags": []
          },
          "execution_count": 25
        }
      ]
    },
    {
      "cell_type": "code",
      "metadata": {
        "id": "pe9BHf9L4vbR"
      },
      "source": [
        "X = df.drop(\"curs\", axis=1) # Входные данные\n",
        "y = df[\"curs\"] # Выход"
      ],
      "execution_count": null,
      "outputs": []
    },
    {
      "cell_type": "code",
      "metadata": {
        "id": "Q-zq5rL45EgR"
      },
      "source": [
        ""
      ],
      "execution_count": null,
      "outputs": []
    },
    {
      "cell_type": "markdown",
      "metadata": {
        "id": "TN9swM595JxP"
      },
      "source": [
        "Тестовая выборка - экзамен\n",
        "\n",
        "Тренировочная выборка - учебник\n",
        "\n"
      ]
    },
    {
      "cell_type": "code",
      "metadata": {
        "id": "TieP_IB45gOj"
      },
      "source": [
        "from sklearn.model_selection import train_test_split\n",
        "\n",
        "X_train, X_test, y_train, y_test = train_test_split(X, y, test_size=0.33)"
      ],
      "execution_count": null,
      "outputs": []
    },
    {
      "cell_type": "markdown",
      "metadata": {
        "id": "FDlNPLI55yog"
      },
      "source": [
        "X_train - задачи в учебнике\n",
        "\n",
        "\n",
        "y_train - ответы на задачи в учебника\n",
        "\n",
        "X_test - задачи на экзамене\n",
        "\n",
        "y_test - ответы на экзамен\n",
        "\n"
      ]
    },
    {
      "cell_type": "code",
      "metadata": {
        "colab": {
          "base_uri": "https://localhost:8080/"
        },
        "id": "ia425bxs5uAr",
        "outputId": "13bac76b-1cc0-47a7-ae09-542e03d9f7a0"
      },
      "source": [
        "print(X_train.shape)\n",
        "print(y_train.shape)\n",
        "print(X_test.shape)\n",
        "print(y_test.shape)"
      ],
      "execution_count": null,
      "outputs": [
        {
          "output_type": "stream",
          "text": [
            "(631, 39)\n",
            "(631,)\n",
            "(311, 39)\n",
            "(311,)\n"
          ],
          "name": "stdout"
        }
      ]
    },
    {
      "cell_type": "code",
      "metadata": {
        "colab": {
          "base_uri": "https://localhost:8080/"
        },
        "id": "rdtqU0Xd6Yka",
        "outputId": "9357324a-e3d6-4faa-b40e-8725e58c7cc6"
      },
      "source": [
        "from sklearn.linear_model import LinearRegression \n",
        "model = LinearRegression()\n",
        "model.fit(X_train, y_train)"
      ],
      "execution_count": null,
      "outputs": [
        {
          "output_type": "execute_result",
          "data": {
            "text/plain": [
              "LinearRegression(copy_X=True, fit_intercept=True, n_jobs=None, normalize=False)"
            ]
          },
          "metadata": {
            "tags": []
          },
          "execution_count": 29
        }
      ]
    },
    {
      "cell_type": "code",
      "metadata": {
        "id": "C5kc2wMW61VO"
      },
      "source": [
        "prediction = model.predict(X_test)"
      ],
      "execution_count": null,
      "outputs": []
    },
    {
      "cell_type": "code",
      "metadata": {
        "id": "o2mx4AeK69q7"
      },
      "source": [
        "from sklearn.metrics import mean_absolute_error\n",
        "from sklearn.metrics import max_error"
      ],
      "execution_count": null,
      "outputs": []
    },
    {
      "cell_type": "code",
      "metadata": {
        "colab": {
          "base_uri": "https://localhost:8080/"
        },
        "id": "IrpbDRRc7OEX",
        "outputId": "3bf38af7-ae7b-468a-9fd3-5a8c7d14ab2f"
      },
      "source": [
        "print(\"MAE\", mean_absolute_error(y_test, prediction))\n",
        "print(\"MAX\", max_error(y_test, prediction))"
      ],
      "execution_count": null,
      "outputs": [
        {
          "output_type": "stream",
          "text": [
            "MAE 0.41105266348481406\n",
            "MAX 3.4463945473451503\n"
          ],
          "name": "stdout"
        }
      ]
    },
    {
      "cell_type": "code",
      "metadata": {
        "colab": {
          "base_uri": "https://localhost:8080/"
        },
        "id": "u0y3Mvk57bMk",
        "outputId": "9e53c543-3366-40be-f8f7-35797ef27f78"
      },
      "source": [
        "from sklearn.ensemble import RandomForestRegressor\n",
        "\n",
        "model = RandomForestRegressor(n_estimators=200, random_state=42, criterion=\"mae\")\n",
        "model.fit(X_train, y_train)\n",
        "prediction = model.predict(X_test)\n",
        "print(\"MAE\", mean_absolute_error(y_test, prediction))\n",
        "print(\"MAX\", max_error(y_test, prediction))"
      ],
      "execution_count": null,
      "outputs": [
        {
          "output_type": "stream",
          "text": [
            "MAE 0.4113472966237989\n",
            "MAX 2.583302999999944\n"
          ],
          "name": "stdout"
        }
      ]
    },
    {
      "cell_type": "code",
      "metadata": {
        "colab": {
          "base_uri": "https://localhost:8080/"
        },
        "id": "ublyG1cl8-eP",
        "outputId": "4bdb5ddc-1de2-4b53-fa85-5290a63f6a7b"
      },
      "source": [
        "from sklearn.neighbors import KNeighborsRegressor\n",
        "\n",
        "model = KNeighborsRegressor(n_neighbors=2)\n",
        "model.fit(X_train, y_train)\n",
        "prediction = model.predict(X_test)\n",
        "print(\"MAE\", mean_absolute_error(y_test, prediction))\n",
        "print(\"MAX\", max_error(y_test, prediction))"
      ],
      "execution_count": null,
      "outputs": [
        {
          "output_type": "stream",
          "text": [
            "MAE 0.4198826366559487\n",
            "MAX 2.4607500000000044\n"
          ],
          "name": "stdout"
        }
      ]
    },
    {
      "cell_type": "code",
      "metadata": {
        "colab": {
          "base_uri": "https://localhost:8080/"
        },
        "id": "O_6DfKs89XAY",
        "outputId": "f51bcc75-427a-443f-b9b0-015dc2e1d064"
      },
      "source": [
        "from sklearn.neural_network import MLPRegressor\n",
        "\n",
        "model = MLPRegressor(hidden_layer_sizes=(100,100,100))\n",
        "model.fit(X_train, y_train)\n",
        "prediction = model.predict(X_test)\n",
        "print(\"MAE\", mean_absolute_error(y_test, prediction))\n",
        "print(\"MAX\", max_error(y_test, prediction))"
      ],
      "execution_count": null,
      "outputs": [
        {
          "output_type": "stream",
          "text": [
            "MAE 0.7027541936350192\n",
            "MAX 3.3498292723852643\n"
          ],
          "name": "stdout"
        },
        {
          "output_type": "stream",
          "text": [
            "/usr/local/lib/python3.7/dist-packages/sklearn/neural_network/_multilayer_perceptron.py:571: ConvergenceWarning: Stochastic Optimizer: Maximum iterations (200) reached and the optimization hasn't converged yet.\n",
            "  % self.max_iter, ConvergenceWarning)\n"
          ],
          "name": "stderr"
        }
      ]
    },
    {
      "cell_type": "markdown",
      "metadata": {
        "id": "pI-1EVVp1cLx"
      },
      "source": [
        "# ДЕНЬ 3\n",
        "(специально для Андрея)"
      ]
    },
    {
      "cell_type": "code",
      "metadata": {
        "id": "4dspoOGR_XNv"
      },
      "source": [
        "from sklearn.model_selection import GridSearchCV"
      ],
      "execution_count": null,
      "outputs": []
    },
    {
      "cell_type": "markdown",
      "metadata": {
        "id": "o0XRJ9kfzU2K"
      },
      "source": [
        "GridSearch - поиск по сетке параметров\n",
        "\n",
        "n_estimators = 100, 200, 500, 1000\n",
        "\n",
        "max_depth = 3,5,10,15\n",
        "\n",
        "criterion = mse, mae\n"
      ]
    },
    {
      "cell_type": "markdown",
      "metadata": {
        "id": "5xoGnnct0BFT"
      },
      "source": [
        "CV - cross validation, кросс-валидация\n",
        "\n",
        "```\n",
        "X - тренировочные примеры\n",
        "* - тестовые примеры\n",
        "\n",
        "[XXXXXXXXXXXXXXXXXXXXXXXXXX*********]\n",
        "\n",
        "Перемешивать\n",
        "[XXXXXXXXXXXXXXXXXXXXXXXXXX*********]\n",
        "\n",
        "КВ\n",
        "[XXXXXXXXXXXXXXXXXXXXXXXXXX*********]\n",
        "[XXXXXXXXXXXXXXXXX*********XXXXXXXXX]\n",
        "[XXXXXXXX*********XXXXXXXXXXXXXXXXXX]\n",
        "[*********XXXXXXXXXXXXXXXXXXXXXXXXXX]\n",
        "```\n"
      ]
    },
    {
      "cell_type": "code",
      "metadata": {
        "colab": {
          "base_uri": "https://localhost:8080/"
        },
        "id": "nf61oD0wz6sW",
        "outputId": "c30798b9-a804-461b-b89b-d312be7ad5cf"
      },
      "source": [
        "model = RandomForestRegressor(random_state=42)\n",
        "param_grid = {\n",
        "    \"n_estimators\": [50,100,500],\n",
        "    \"criterion\": [\"mse\", \"mae\"],\n",
        "    \"min_samples_split\": [2,3],\n",
        "}\n",
        "GS = GridSearchCV(model, param_grid, scoring = \"neg_mean_absolute_error\", cv=3, n_jobs=-1)\n",
        "GS.fit(X_train, y_train)"
      ],
      "execution_count": null,
      "outputs": [
        {
          "output_type": "execute_result",
          "data": {
            "text/plain": [
              "GridSearchCV(cv=3, error_score=nan,\n",
              "             estimator=RandomForestRegressor(bootstrap=True, ccp_alpha=0.0,\n",
              "                                             criterion='mse', max_depth=None,\n",
              "                                             max_features='auto',\n",
              "                                             max_leaf_nodes=None,\n",
              "                                             max_samples=None,\n",
              "                                             min_impurity_decrease=0.0,\n",
              "                                             min_impurity_split=None,\n",
              "                                             min_samples_leaf=1,\n",
              "                                             min_samples_split=2,\n",
              "                                             min_weight_fraction_leaf=0.0,\n",
              "                                             n_estimators=100, n_jobs=None,\n",
              "                                             oob_score=False, random_state=42,\n",
              "                                             verbose=0, warm_start=False),\n",
              "             iid='deprecated', n_jobs=-1,\n",
              "             param_grid={'criterion': ['mse', 'mae'],\n",
              "                         'min_samples_split': [2, 3],\n",
              "                         'n_estimators': [50, 100, 500]},\n",
              "             pre_dispatch='2*n_jobs', refit=True, return_train_score=False,\n",
              "             scoring='neg_mean_absolute_error', verbose=0)"
            ]
          },
          "metadata": {
            "tags": []
          },
          "execution_count": 39
        }
      ]
    },
    {
      "cell_type": "code",
      "metadata": {
        "colab": {
          "base_uri": "https://localhost:8080/"
        },
        "id": "oV71CujZ2qas",
        "outputId": "11f36ad5-cf1b-45d3-f7d7-cc006f884397"
      },
      "source": [
        "GS.best_score_"
      ],
      "execution_count": null,
      "outputs": [
        {
          "output_type": "execute_result",
          "data": {
            "text/plain": [
              "-0.38124203310765353"
            ]
          },
          "metadata": {
            "tags": []
          },
          "execution_count": 40
        }
      ]
    },
    {
      "cell_type": "code",
      "metadata": {
        "colab": {
          "base_uri": "https://localhost:8080/"
        },
        "id": "8zc6T5AW3T5B",
        "outputId": "fa2d2652-2cab-42b1-b84b-0b7e21dacd38"
      },
      "source": [
        "GS.best_params_"
      ],
      "execution_count": null,
      "outputs": [
        {
          "output_type": "execute_result",
          "data": {
            "text/plain": [
              "{'criterion': 'mae', 'min_samples_split': 2, 'n_estimators': 100}"
            ]
          },
          "metadata": {
            "tags": []
          },
          "execution_count": 41
        }
      ]
    },
    {
      "cell_type": "code",
      "metadata": {
        "id": "95fAGJCT31pa"
      },
      "source": [
        "df.to_excel(\"df.xls\")"
      ],
      "execution_count": null,
      "outputs": []
    },
    {
      "cell_type": "code",
      "metadata": {
        "id": "mB4CrOriByii"
      },
      "source": [
        ""
      ],
      "execution_count": null,
      "outputs": []
    }
  ]
}